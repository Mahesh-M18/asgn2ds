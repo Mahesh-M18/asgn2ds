{
 "cells": [
  {
   "cell_type": "code",
   "execution_count": null,
   "id": "1eda918d-70da-4643-9994-c264a715329d",
   "metadata": {},
   "outputs": [],
   "source": [
    "#STRING BASED PRACTICE PROBLEMS"
   ]
  },
  {
   "cell_type": "code",
   "execution_count": null,
   "id": "f4cbe77d-c59b-4725-be3f-0e563f40f149",
   "metadata": {},
   "outputs": [],
   "source": [
    "#1 Write a program to reverse a string"
   ]
  },
  {
   "cell_type": "code",
   "execution_count": null,
   "id": "715f32f8-a0a9-49cd-ad53-a1e2b61a75b7",
   "metadata": {},
   "outputs": [],
   "source": [
    "s=input(\"Enter a string : \")\n",
    "print(\"The reverse of entered string is : \",s[::-1])"
   ]
  },
  {
   "cell_type": "code",
   "execution_count": null,
   "id": "1e7f3179-e182-4320-938e-c624e84b2b52",
   "metadata": {},
   "outputs": [],
   "source": [
    "#2 Check if a string is a palindrome"
   ]
  },
  {
   "cell_type": "code",
   "execution_count": null,
   "id": "5c1dd249-d2a3-4f6f-98ef-edd0b13700d6",
   "metadata": {},
   "outputs": [],
   "source": [
    "s1=input(\"Enter a string : \")\n",
    "if s1==s1[::-1]:\n",
    "    print(\"Entered string is palindrome\")\n",
    "else:\n",
    "    print(\"Entered string is not palindrome\")"
   ]
  },
  {
   "cell_type": "code",
   "execution_count": null,
   "id": "14d4aceb-df6d-4d65-a03f-acf91a77dc35",
   "metadata": {},
   "outputs": [],
   "source": [
    "#3 Convert a string to uppercase"
   ]
  },
  {
   "cell_type": "code",
   "execution_count": null,
   "id": "416f9a6f-fd3c-4750-b222-ceb68bfb506c",
   "metadata": {},
   "outputs": [],
   "source": [
    "s2=input(\"Enter a string : \")\n",
    "print(s2.upper())"
   ]
  },
  {
   "cell_type": "code",
   "execution_count": null,
   "id": "0f14975e-6b87-423a-8b6e-ac55a4bc84ba",
   "metadata": {},
   "outputs": [],
   "source": [
    "#4 Convert a string to lowercase"
   ]
  },
  {
   "cell_type": "code",
   "execution_count": null,
   "id": "49818d1f-8b09-4d60-a4bf-052e46ac746d",
   "metadata": {},
   "outputs": [],
   "source": [
    "s3=input(\"Enter a string : \")\n",
    "print(s3.lower())"
   ]
  },
  {
   "cell_type": "code",
   "execution_count": null,
   "id": "2427ca81-a673-4dc4-ad76-ce42678511b3",
   "metadata": {},
   "outputs": [],
   "source": [
    "#5 Count the number of vowels in a string"
   ]
  },
  {
   "cell_type": "code",
   "execution_count": null,
   "id": "1d3f7a44-4a0d-414d-a3d5-2eea7f72cb34",
   "metadata": {},
   "outputs": [],
   "source": [
    "s4=input(\"Enter a string : \")\n",
    "a=s4.lower()\n",
    "l=[\"a\",\"e\",\"i\",\"o\",\"u\"]\n",
    "sum1=0\n",
    "for i in a:\n",
    "    if i in l:\n",
    "        sum1+=1\n",
    "print(\"The number of vowels in the Entered string = \",sum1)\n",
    "        "
   ]
  },
  {
   "cell_type": "code",
   "execution_count": null,
   "id": "6bf3c7bf-2ce6-4917-9704-ae7c51d02d78",
   "metadata": {},
   "outputs": [],
   "source": [
    "#6 Count the number of consonants in a string"
   ]
  },
  {
   "cell_type": "code",
   "execution_count": null,
   "id": "5e3940cb-482f-4ae0-b35a-306118a667cf",
   "metadata": {},
   "outputs": [],
   "source": [
    "s5=input(\"Enter a string : \")\n",
    "b=s5.lower()\n",
    "l2=[\"a\",\"e\",\"i\",\"o\",\"u\"]\n",
    "sum2=0\n",
    "for i in b:\n",
    "    if i in l2:\n",
    "        continue\n",
    "    else:\n",
    "        sum2+=1\n",
    "print(\"The number of consonants in the Entered string = \",sum2)"
   ]
  },
  {
   "cell_type": "code",
   "execution_count": null,
   "id": "43667b07-a188-4897-98cd-b8447df30e91",
   "metadata": {},
   "outputs": [],
   "source": [
    "#7 Remove all whitespaces from a string"
   ]
  },
  {
   "cell_type": "code",
   "execution_count": null,
   "id": "f9c1d6fc-2553-47e1-96f4-d754b31a5274",
   "metadata": {},
   "outputs": [],
   "source": [
    "s6=input(\"Enter a string : \")\n",
    "print(s6.replace(\" \",\"\"))"
   ]
  },
  {
   "cell_type": "code",
   "execution_count": null,
   "id": "4192d54a-bb46-4e95-a708-7ed1dd69ac01",
   "metadata": {},
   "outputs": [],
   "source": [
    "#8 Find the length of a string without using the `len()` function"
   ]
  },
  {
   "cell_type": "code",
   "execution_count": null,
   "id": "f516a52e-c11c-447f-80c9-865f81647f8d",
   "metadata": {},
   "outputs": [],
   "source": [
    "s7=input(\"Enter a string : \")\n",
    "length=0\n",
    "for i in s7:\n",
    "    length+=1\n",
    "print(\"Length of the Entered string = \",length)"
   ]
  },
  {
   "cell_type": "code",
   "execution_count": null,
   "id": "d9961b5f-9cc2-4119-8b3f-aaac1545e05b",
   "metadata": {},
   "outputs": [],
   "source": [
    "#9 Check if a string contains a specific word"
   ]
  },
  {
   "cell_type": "code",
   "execution_count": null,
   "id": "0efb29ac-54e5-4730-b0c0-c89e4e13c2aa",
   "metadata": {},
   "outputs": [],
   "source": [
    "s8=input(\"Enter a string : \")\n",
    "w=input(\"Enter the specific word to be checked : \")\n",
    "sp=s8.split(\" \")\n",
    "if w in sp:\n",
    "    print(w,\" is present in Entered string\")\n",
    "else:\n",
    "    print(w,\" is not present in Entered string\")"
   ]
  },
  {
   "cell_type": "code",
   "execution_count": null,
   "id": "3e8bef1b-4de9-4485-bc78-44bdda7574ff",
   "metadata": {},
   "outputs": [],
   "source": [
    "#10 Replace a word in a string with another word"
   ]
  },
  {
   "cell_type": "code",
   "execution_count": null,
   "id": "0607e2e1-82d4-4877-a2f8-f0feaddbc765",
   "metadata": {},
   "outputs": [],
   "source": [
    "s9=input(\"Enter a string : \")\n",
    "r0=input(\"Enter the word to be replaced : \")\n",
    "r1=input(\"Enter the new word : \")\n",
    "if r0 in s9:\n",
    "    p=s9.replace(r0,r1)\n",
    "    print(p)\n",
    "else:\n",
    "    print(\"Replacement cannot be done\")"
   ]
  },
  {
   "cell_type": "code",
   "execution_count": null,
   "id": "8953a3ad-fea5-423a-b7a1-3b7aadbd8b8d",
   "metadata": {},
   "outputs": [],
   "source": [
    "#11 Count the occurrences of a word in a string"
   ]
  },
  {
   "cell_type": "code",
   "execution_count": null,
   "id": "3bf6c6a6-c43d-4c77-8beb-7d427fe167e4",
   "metadata": {},
   "outputs": [],
   "source": [
    "s0=input(\"Enter a string : \")\n",
    "c0=input(\"Enter the word to be counted : \")\n",
    "if c0 in s0:\n",
    "    p=s0.count(c0)\n",
    "    print(p)\n",
    "else:\n",
    "    print(\"Counting cannot be done\")"
   ]
  },
  {
   "cell_type": "code",
   "execution_count": null,
   "id": "446cd819-f8b1-4b9b-954e-0794e8cd7f98",
   "metadata": {},
   "outputs": [],
   "source": [
    "#12 Find the first occurrence of a word in a string"
   ]
  },
  {
   "cell_type": "code",
   "execution_count": null,
   "id": "9b317b00-c9a6-48a8-95ea-fdb0984b1292",
   "metadata": {},
   "outputs": [],
   "source": [
    "st=input(\"Enter a string : \")\n",
    "o0=input(\"Enter the word : \")\n",
    "if o0 in st:\n",
    "    o=st.find(o0)\n",
    "    print(o0,\" found at position \",o+1)\n",
    "else:\n",
    "    print(\"Word cannot be found\")"
   ]
  },
  {
   "cell_type": "code",
   "execution_count": null,
   "id": "f752ffb9-9e30-4705-98d5-e2b2a35fa565",
   "metadata": {},
   "outputs": [],
   "source": [
    "#13 Find the last occurrence of a word in a string"
   ]
  },
  {
   "cell_type": "code",
   "execution_count": null,
   "id": "fc58e925-5cc2-4667-a2c2-6245991613c5",
   "metadata": {},
   "outputs": [],
   "source": [
    "str=input(\"Enter a string : \")\n",
    "o1=input(\"Enter the word : \")\n",
    "if o1 in str:\n",
    "    oo=str.rfind(o1)\n",
    "    print(o1,\"'s last occurance is at position \",oo+1)\n",
    "else:\n",
    "    print(\"Word cannot be found\")"
   ]
  },
  {
   "cell_type": "code",
   "execution_count": null,
   "id": "6e562fa8-20e2-4ae8-944e-5650aaaedbb7",
   "metadata": {},
   "outputs": [],
   "source": [
    "#14 Split a string into a list of words"
   ]
  },
  {
   "cell_type": "code",
   "execution_count": null,
   "id": "693dadfb-fd45-4a2b-9c65-f779804d7761",
   "metadata": {},
   "outputs": [],
   "source": [
    "str1=input(\"Enter a string : \")\n",
    "p=str1.split(\" \")\n",
    "print(p)\n",
    "print(type(p))"
   ]
  },
  {
   "cell_type": "code",
   "execution_count": null,
   "id": "6d908071-01a3-429e-81fe-87f463a99a75",
   "metadata": {},
   "outputs": [],
   "source": [
    "#15 Join a list of words into a string"
   ]
  },
  {
   "cell_type": "code",
   "execution_count": null,
   "id": "8563fff0-8db9-4257-b69a-62d5034bf941",
   "metadata": {},
   "outputs": [],
   "source": [
    "lst=['hello','world','welcome', 'to', 'pwskills']\n",
    "for i in lst:\n",
    "    print(i,end=\" \")"
   ]
  },
  {
   "cell_type": "code",
   "execution_count": null,
   "id": "e6efe049-f99b-4770-a92d-e3e773b71639",
   "metadata": {},
   "outputs": [],
   "source": [
    "#16 Convert a string where words are separated by spaces to one where words are separated by underscores"
   ]
  },
  {
   "cell_type": "code",
   "execution_count": null,
   "id": "cf3f99cd-7579-49a3-8e9e-525f03aa5dab",
   "metadata": {},
   "outputs": [],
   "source": [
    "str2=input(\"Enter a string : \")\n",
    "print(str2.replace(\" \",\"_\"))"
   ]
  },
  {
   "cell_type": "code",
   "execution_count": null,
   "id": "9a2f5a20-a50e-4a07-9311-c1e7aba591e2",
   "metadata": {},
   "outputs": [],
   "source": [
    "#17 Check if a string starts with a specific word or phrase"
   ]
  },
  {
   "cell_type": "code",
   "execution_count": null,
   "id": "8375435b-d467-4b39-a944-31755a7ba6df",
   "metadata": {},
   "outputs": [],
   "source": [
    "str3=input(\"Enter a string : \")\n",
    "sp=input(\"Enter the specific word : \")\n",
    "print(str3.startswith(sp))"
   ]
  },
  {
   "cell_type": "code",
   "execution_count": null,
   "id": "49ba6d59-ded4-4cd3-9284-52a31a6f4c6a",
   "metadata": {},
   "outputs": [],
   "source": [
    "#18 Check if a string ends with a specific word or phrase"
   ]
  },
  {
   "cell_type": "code",
   "execution_count": null,
   "id": "32bde981-68b0-4543-8266-487ccce456d7",
   "metadata": {},
   "outputs": [],
   "source": [
    "str4=input(\"Enter a string : \")\n",
    "sp1=input(\"Enter the specific word : \")\n",
    "print(str4.endswith(sp1))"
   ]
  },
  {
   "cell_type": "code",
   "execution_count": null,
   "id": "959d9e32-3cdd-40a0-9e62-a4edd91fe153",
   "metadata": {},
   "outputs": [],
   "source": [
    "#19 Convert a string to title case (e.g., \"hello world\" to \"Hello World\")"
   ]
  },
  {
   "cell_type": "code",
   "execution_count": null,
   "id": "b9874a20-0012-43bf-aa54-1ab2a2eed188",
   "metadata": {},
   "outputs": [],
   "source": [
    "str5=input(\"Enter a string : \")\n",
    "print(str5.title())"
   ]
  },
  {
   "cell_type": "code",
   "execution_count": null,
   "id": "9c4154fb-645f-4b7f-b834-88e7cfc009af",
   "metadata": {},
   "outputs": [],
   "source": [
    "#20 Find the longest word in a string"
   ]
  },
  {
   "cell_type": "code",
   "execution_count": null,
   "id": "ed3ffe06-e834-4414-b5fc-db268876c4fe",
   "metadata": {},
   "outputs": [],
   "source": [
    "a=input(\"Enter a string : \")\n",
    "b=a.split(\" \")\n",
    "p=b[0]\n",
    "for i in b:\n",
    "    if (len(i)>len(p)):\n",
    "        p=i\n",
    "print(p)"
   ]
  },
  {
   "cell_type": "code",
   "execution_count": null,
   "id": "cad98a9b-4dd5-4e87-aef3-1602c4115646",
   "metadata": {},
   "outputs": [],
   "source": [
    "#21 Find the shortest word in a string"
   ]
  },
  {
   "cell_type": "code",
   "execution_count": null,
   "id": "8a59a417-c2bb-42cc-a0db-326303ee7737",
   "metadata": {},
   "outputs": [],
   "source": [
    "a=input(\"Enter a string : \")\n",
    "b=a.split(\" \")\n",
    "p=b[0]\n",
    "for i in b:\n",
    "    if (len(i)<len(p)):\n",
    "        p=i\n",
    "print(p)"
   ]
  },
  {
   "cell_type": "code",
   "execution_count": null,
   "id": "028b55ee-397c-48c1-806c-83f066ae19e4",
   "metadata": {},
   "outputs": [],
   "source": [
    "#22 Reverse the order of words in a string"
   ]
  },
  {
   "cell_type": "code",
   "execution_count": null,
   "id": "4775805a-7d66-4db9-bf0b-62b5537967c7",
   "metadata": {},
   "outputs": [],
   "source": [
    "a=input(\"Enter a string : \")\n",
    "c=a.split(\" \")\n",
    "b=c[::-1]\n",
    "print(\" \".join(b))"
   ]
  },
  {
   "cell_type": "code",
   "execution_count": null,
   "id": "bc605aac-6041-4501-a4a9-40ddc23de560",
   "metadata": {},
   "outputs": [],
   "source": [
    "#23 Check if a string is alphanumeric"
   ]
  },
  {
   "cell_type": "code",
   "execution_count": null,
   "id": "5b86643f-0faa-4f1b-b9fb-9b8528a6fcf9",
   "metadata": {},
   "outputs": [],
   "source": [
    "a=input(\"Enter a string : \")\n",
    "print(a.isalnum())"
   ]
  },
  {
   "cell_type": "code",
   "execution_count": null,
   "id": "de9046f6-dbfc-46cd-915b-acb8a2b58063",
   "metadata": {},
   "outputs": [],
   "source": [
    "#24 Extract all digits from a string."
   ]
  },
  {
   "cell_type": "code",
   "execution_count": null,
   "id": "58008b36-07b3-437e-8b0d-cd2a6e3e1b2b",
   "metadata": {},
   "outputs": [],
   "source": [
    "a=input(\"Enter a string : \")\n",
    "for i in a:\n",
    "    if i.isdigit():\n",
    "        print(i,end=\" \")"
   ]
  },
  {
   "cell_type": "code",
   "execution_count": null,
   "id": "fac5bafb-9661-4a5a-84ec-7eded8bbadd9",
   "metadata": {},
   "outputs": [],
   "source": [
    "#25 Extract all alphabets from a string"
   ]
  },
  {
   "cell_type": "code",
   "execution_count": null,
   "id": "4d970ac4-368c-4881-971f-ed1bfc50737e",
   "metadata": {},
   "outputs": [],
   "source": [
    "a=input(\"Enter a string : \")\n",
    "for i in a:\n",
    "    if i.isalpha():\n",
    "        print(i,end=\" \")"
   ]
  },
  {
   "cell_type": "code",
   "execution_count": null,
   "id": "b111dcfc-6ae5-439f-8495-5061cc503ff8",
   "metadata": {},
   "outputs": [],
   "source": [
    "#26 Count the number of uppercase letters in a string"
   ]
  },
  {
   "cell_type": "code",
   "execution_count": null,
   "id": "81ed8833-ce75-43bb-932c-dd9f68eafeff",
   "metadata": {},
   "outputs": [],
   "source": [
    "a=input(\"Enter a string : \")\n",
    "count=0\n",
    "for i in a:\n",
    "    if i.isupper():\n",
    "        count+=1\n",
    "print(\"The number of uppercase letters = \",count)"
   ]
  },
  {
   "cell_type": "code",
   "execution_count": null,
   "id": "6bab127e-9976-44b7-93cf-44cea42eb101",
   "metadata": {},
   "outputs": [],
   "source": [
    "#27 Count the number of lowercase letters in a string"
   ]
  },
  {
   "cell_type": "code",
   "execution_count": null,
   "id": "8393b924-9856-45d3-bdd5-a5da50b25e2a",
   "metadata": {},
   "outputs": [],
   "source": [
    "a=input(\"Enter a string : \")\n",
    "count=0\n",
    "for i in a:\n",
    "    if i.islower():\n",
    "        count+=1\n",
    "print(\"The number of lowercase letters = \",count)"
   ]
  },
  {
   "cell_type": "code",
   "execution_count": null,
   "id": "54917c78-b3f4-4f0e-b718-fc6ef0d4ee34",
   "metadata": {},
   "outputs": [],
   "source": [
    "#28 Swap the case of each character in a string"
   ]
  },
  {
   "cell_type": "code",
   "execution_count": null,
   "id": "c129621b-6600-4b48-a79b-b7c8791be2e9",
   "metadata": {},
   "outputs": [],
   "source": [
    "a=input(\"Enter a string : \")\n",
    "print(a.swapcase())"
   ]
  },
  {
   "cell_type": "code",
   "execution_count": null,
   "id": "ef7f41d2-1e6d-49fc-b80e-7b5bb5c87a08",
   "metadata": {},
   "outputs": [],
   "source": [
    "#29 Remove a specific word from a string"
   ]
  },
  {
   "cell_type": "code",
   "execution_count": null,
   "id": "5a5e4576-557c-4b1c-a575-58b39b3ae23d",
   "metadata": {},
   "outputs": [],
   "source": [
    "a=input(\"Enter a string : \")\n",
    "b=input(\"Enter a word to be removed : \")\n",
    "print(a.replace(\"b\",\" \"))"
   ]
  },
  {
   "cell_type": "code",
   "execution_count": null,
   "id": "c1216e29-fbb1-45bb-9578-dd3512adea9a",
   "metadata": {},
   "outputs": [],
   "source": [
    "#30 Check if a string is a valid email address"
   ]
  },
  {
   "cell_type": "code",
   "execution_count": null,
   "id": "9dad6200-00d9-40b6-87b0-d891bdf9829e",
   "metadata": {},
   "outputs": [],
   "source": [
    "a=input(\"Enter a string : \")\n",
    "em=\"@gmail.com\"\n",
    "print(a.endswith(em))"
   ]
  },
  {
   "cell_type": "code",
   "execution_count": null,
   "id": "f870f6f0-2db3-47b6-ae72-6c5de003c015",
   "metadata": {},
   "outputs": [],
   "source": [
    "#31 Extract the username from an email address string."
   ]
  },
  {
   "cell_type": "code",
   "execution_count": null,
   "id": "aa096764-362f-4618-9d78-6a83d79c099e",
   "metadata": {},
   "outputs": [],
   "source": [
    "a=input(\"Enter your email : \")\n",
    "username=a.split('@')[0]\n",
    "print(\"Your username = \",username)"
   ]
  },
  {
   "cell_type": "code",
   "execution_count": null,
   "id": "bb91ac26-e57c-4c92-917e-9c92895893de",
   "metadata": {},
   "outputs": [],
   "source": [
    "#32 Extract the domain name from an email address string"
   ]
  },
  {
   "cell_type": "code",
   "execution_count": null,
   "id": "0881e7f8-ef1c-42db-965a-ef9ba3e4b3f3",
   "metadata": {},
   "outputs": [],
   "source": [
    "a=input(\"Enter your email : \")\n",
    "username=a.split('@')[1]\n",
    "print(\"Your domain = \",username)"
   ]
  },
  {
   "cell_type": "code",
   "execution_count": null,
   "id": "54cb3781-1f9f-4673-89e7-fc22374838d4",
   "metadata": {},
   "outputs": [],
   "source": [
    "#33 Replace multiple spaces in a string with a single space"
   ]
  },
  {
   "cell_type": "code",
   "execution_count": null,
   "id": "20b2078e-2b4b-4fd8-87dd-2471080ac979",
   "metadata": {},
   "outputs": [],
   "source": [
    "a=input(\"Enter your email : \")\n",
    "b=a.split()\n",
    "print(\" \".join(b))"
   ]
  },
  {
   "cell_type": "code",
   "execution_count": null,
   "id": "29440e71-7b83-41cf-9b3f-ea663d3ab5aa",
   "metadata": {},
   "outputs": [],
   "source": [
    "#34 Check if a string is a valid URL"
   ]
  },
  {
   "cell_type": "code",
   "execution_count": null,
   "id": "1fc360b2-3d62-4845-8c41-8c6ad5f1e2c5",
   "metadata": {},
   "outputs": [],
   "source": [
    "a=input(\"Enter your URL : \")\n",
    "print(a.startswith(\"http://\"))"
   ]
  },
  {
   "cell_type": "code",
   "execution_count": null,
   "id": "4815a965-0c17-409e-9b17-697d138d455b",
   "metadata": {},
   "outputs": [],
   "source": [
    "#35 Extract the protocol (http or https) from a URL string"
   ]
  },
  {
   "cell_type": "code",
   "execution_count": null,
   "id": "fe89ac2a-a247-4213-892a-b8933c5ab0a0",
   "metadata": {},
   "outputs": [],
   "source": [
    "a=input(\"Enter your URL : \")\n",
    "print(a.split(\"://\")[0])"
   ]
  },
  {
   "cell_type": "code",
   "execution_count": null,
   "id": "8a169968-4e09-4e10-8689-bdb9ecc2a110",
   "metadata": {},
   "outputs": [],
   "source": [
    "#36 Find the frequency of each character in a string"
   ]
  },
  {
   "cell_type": "code",
   "execution_count": null,
   "id": "07cc083f-7313-4398-83ed-74b475450989",
   "metadata": {},
   "outputs": [],
   "source": [
    "a=input(\"Enter a string : \")\n",
    "for i in a:\n",
    "    print(\"frequency of\",i,\" = \",a.count(i))"
   ]
  },
  {
   "cell_type": "code",
   "execution_count": null,
   "id": "23664629-139a-4f66-aba2-df72065bc03b",
   "metadata": {},
   "outputs": [],
   "source": [
    "#37 Remove all punctuation from a string"
   ]
  },
  {
   "cell_type": "code",
   "execution_count": null,
   "id": "4af563dc-4917-493a-b0b9-063ed823e836",
   "metadata": {},
   "outputs": [],
   "source": [
    "a=input(\"Enter a string : \")\n",
    "b=a.replace(\",\",\"\")\n",
    "c=b.replace(\".\",\"\")\n",
    "d=c.replace(\"?\",\"\")\n",
    "e=d.replace(\"!\",\"\")\n",
    "f=e.replace(\";\",\"\")\n",
    "g=f.replace(\":\",\"\")\n",
    "h=g.replace(\"/\",\"\")\n",
    "print(h.replace(\"'\",\"\"))"
   ]
  },
  {
   "cell_type": "code",
   "execution_count": null,
   "id": "04e89615-ab2f-4497-8cd4-f8415a576c4b",
   "metadata": {},
   "outputs": [],
   "source": [
    "#38 Check if a string contains only digits"
   ]
  },
  {
   "cell_type": "code",
   "execution_count": null,
   "id": "a5322f17-fb14-4b35-8b27-a6d6a84da69e",
   "metadata": {},
   "outputs": [],
   "source": [
    "a=input(\"Enter a string : \")\n",
    "print(a.isdigit())"
   ]
  },
  {
   "cell_type": "code",
   "execution_count": null,
   "id": "1592d18b-1370-4710-87c4-ffd67c18e42f",
   "metadata": {},
   "outputs": [],
   "source": [
    "#39 Check if a string contains only alphabets"
   ]
  },
  {
   "cell_type": "code",
   "execution_count": null,
   "id": "2dc78529-94d0-45fd-ac81-3a9d15214b2c",
   "metadata": {},
   "outputs": [],
   "source": [
    "a=input(\"Enter a string : \")\n",
    "print(a.isalpha())"
   ]
  },
  {
   "cell_type": "code",
   "execution_count": null,
   "id": "e15c614b-0f63-48d9-8a9e-a87bd24c4c45",
   "metadata": {},
   "outputs": [],
   "source": [
    "#40 Convert a string to a list of characters"
   ]
  },
  {
   "cell_type": "code",
   "execution_count": null,
   "id": "56f6fd96-03dc-43d4-85ee-4a0061bb27d5",
   "metadata": {},
   "outputs": [],
   "source": [
    "a=input(\"Enter a string : \")\n",
    "print(list(a))"
   ]
  },
  {
   "cell_type": "code",
   "execution_count": null,
   "id": "ca9a1af0-96f8-4418-b513-462aa44335df",
   "metadata": {},
   "outputs": [],
   "source": [
    "#41 Check if two strings are anagrams"
   ]
  },
  {
   "cell_type": "code",
   "execution_count": null,
   "id": "5c63cd02-6d91-4216-81d3-c26446b44d2e",
   "metadata": {},
   "outputs": [],
   "source": [
    "a=input(\"Enter a string : \")\n",
    "b=input(\"Enter a string : \")\n",
    "c=(sorted(list(b)))\n",
    "d=(sorted(list(a)))\n",
    "if c==d:\n",
    "    print(\"Entered two strings are anagrams\")\n",
    "else:\n",
    "    print(\"Entered two strings are not anagrams\")"
   ]
  },
  {
   "cell_type": "code",
   "execution_count": null,
   "id": "c42a652e-6de1-4f83-bb2f-90552360bb09",
   "metadata": {},
   "outputs": [],
   "source": [
    "#42 Encode a string using a Caesar cipher"
   ]
  },
  {
   "cell_type": "code",
   "execution_count": null,
   "id": "f041af0f-c992-44a1-aa15-95b00c86dcdd",
   "metadata": {},
   "outputs": [],
   "source": [
    "sentence=input(\"Enter the sentence : \")\n",
    "shift=int(input(\"Enter the shift\"))\n",
    "encrypted_text = \"\"\n",
    "for char in sentence:\n",
    "    if char.isalpha():\n",
    "        # Shift only alphabetical characters\n",
    "        shifted_char = chr((ord(char) - 65 + shift) % 26 + 65) if char.isupper() else chr((ord(char) - 97 + shift) % 26 + 97)\n",
    "        encrypted_text += shifted_char\n",
    "    else:\n",
    "        # Keep non-alphabetic characters unchanged\n",
    "        encrypted_text += char\n",
    "\n",
    "print(\"Encrypted text:\", encrypted_text)"
   ]
  },
  {
   "cell_type": "code",
   "execution_count": null,
   "id": "75352d3e-6426-4054-851c-79f744f75b85",
   "metadata": {},
   "outputs": [],
   "source": [
    "#43 Decode a Caesar cipher encoded string"
   ]
  },
  {
   "cell_type": "code",
   "execution_count": null,
   "id": "dce99c58-5e03-416e-bec5-d5b13dbded6d",
   "metadata": {},
   "outputs": [],
   "source": [
    "sentence=input(\"Enter the sentence : \")\n",
    "shift=int(input(\"Enter the shift\"))\n",
    "encrypted_text = \"\"\n",
    "for char in sentence:\n",
    "    if char.isalpha():\n",
    "        # Shift only alphabetical characters\n",
    "        shifted_char = chr((ord(char) - 65 - shift) % 26 + 65) if char.isupper() else chr((ord(char) - 97 - shift) % 26 + 97)\n",
    "        encrypted_text += shifted_char\n",
    "    else:\n",
    "        # Keep non-alphabetic characters unchanged\n",
    "        encrypted_text += char\n",
    "\n",
    "print(\"Encrypted text:\", encrypted_text)"
   ]
  },
  {
   "cell_type": "code",
   "execution_count": null,
   "id": "ae873797-2fba-4edb-a7be-6bd0e6d8c18f",
   "metadata": {},
   "outputs": [],
   "source": [
    "#44 Find the most frequent word in a string"
   ]
  },
  {
   "cell_type": "code",
   "execution_count": null,
   "id": "f8295328-5d07-4e31-932a-48d6bed23b08",
   "metadata": {},
   "outputs": [],
   "source": [
    "a=input(\"Enter the sentence : \")\n",
    "l=a.split(\" \")\n",
    "b=set(l)\n",
    "count,a=0,\"\"\n",
    "for i in b:\n",
    "    if l.count(\"i\")>count:\n",
    "        count=l.count(\"i\")\n",
    "        a=i\n",
    "print(i)"
   ]
  },
  {
   "cell_type": "code",
   "execution_count": null,
   "id": "79363203-4bce-44ba-bd96-cce67cbca4d2",
   "metadata": {},
   "outputs": [],
   "source": [
    "#45 Find all unique words in a string"
   ]
  },
  {
   "cell_type": "code",
   "execution_count": null,
   "id": "c54de7d8-6210-42b2-8efb-be9383bc2213",
   "metadata": {},
   "outputs": [],
   "source": [
    "a=input(\"Enter the sentence : \")\n",
    "l=a.split()\n",
    "b=set(l)\n",
    "print(l,b)\n",
    "for i in b:\n",
    "    if l.count(i)==1:\n",
    "        print(i,end=\" \")"
   ]
  },
  {
   "cell_type": "code",
   "execution_count": null,
   "id": "390e6bdb-c075-403f-ad2e-960b8af516a9",
   "metadata": {},
   "outputs": [],
   "source": [
    "#46 Count the number of syllables in a string"
   ]
  },
  {
   "cell_type": "code",
   "execution_count": null,
   "id": "58d4573c-91c1-4b1f-aef7-5ec526052faa",
   "metadata": {},
   "outputs": [],
   "source": [
    "a=input(\"Enter a word : \")\n",
    "b=a.lower()\n",
    "s=\"aeiou\"\n",
    "count=0\n",
    "for i in a:\n",
    "    if i in s:\n",
    "        count+=1\n",
    "print(\"The number of syllables in Entered string = \",count)"
   ]
  },
  {
   "cell_type": "code",
   "execution_count": null,
   "id": "c325ccd9-85f1-4220-be49-9d68feba83d3",
   "metadata": {},
   "outputs": [],
   "source": [
    "#47 Check if a string contains any special characters"
   ]
  },
  {
   "cell_type": "code",
   "execution_count": null,
   "id": "fd1162c2-6fe2-459c-b985-7b33df8b4388",
   "metadata": {},
   "outputs": [],
   "source": [
    "a=input(\"Enter the string : \")\n",
    "if a.isalnum():\n",
    "    print(a,\" has no special characters\")\n",
    "else:\n",
    "    print(a,\" has special characters\")"
   ]
  },
  {
   "cell_type": "code",
   "execution_count": null,
   "id": "0b0d1794-e8e1-40c8-9c0a-1baa9370ca2c",
   "metadata": {},
   "outputs": [],
   "source": [
    "#48 Remove the nth word from a string"
   ]
  },
  {
   "cell_type": "code",
   "execution_count": null,
   "id": "41a43db2-f292-4383-b3bd-5bb059cb5a9b",
   "metadata": {},
   "outputs": [],
   "source": [
    "a=input(\"Enter the sentence : \")\n",
    "l=a.split()\n",
    "n=int(input(\"Enter the position of removal : \"))\n",
    "l.pop(n-1)\n",
    "print(\" \".join(l))"
   ]
  },
  {
   "cell_type": "code",
   "execution_count": null,
   "id": "3f6b3389-1a42-4650-a42a-af5052cfa367",
   "metadata": {},
   "outputs": [],
   "source": [
    "#49 Insert a word at the nth position in a string"
   ]
  },
  {
   "cell_type": "code",
   "execution_count": null,
   "id": "50f75c8d-03a7-4a74-a22c-f0989bdae376",
   "metadata": {},
   "outputs": [],
   "source": [
    "s=\"Hi how are doing\"\n",
    "l=s.split()\n",
    "inp=\"Hello\"\n",
    "ip=int(input(\"Position : \"))\n",
    "pos=ip-1\n",
    "l.insert(pos,inp)\n",
    "print(\" \".join(l))"
   ]
  },
  {
   "cell_type": "code",
   "execution_count": null,
   "id": "026a1733-d3a0-4551-88b8-849902ffc4fa",
   "metadata": {},
   "outputs": [],
   "source": [
    "#50 Convert a CSV string to a list of lists"
   ]
  },
  {
   "cell_type": "code",
   "execution_count": null,
   "id": "2951f7c7-783b-45db-a8f5-fc57aa14c91e",
   "metadata": {},
   "outputs": [],
   "source": [
    "csv_string = \"a,b,c\\n2,3,4\\nx,y,z\"\n",
    "csv_rows = csv_string.split(\"\\n\")\n",
    "csv_list = [row.split(\",\") for row in csv_rows]\n",
    "print(csv_list)"
   ]
  },
  {
   "cell_type": "code",
   "execution_count": null,
   "id": "56d1a14b-f7ac-4830-a86f-f374668f5eee",
   "metadata": {},
   "outputs": [],
   "source": [
    "#LIST BASED PRACTICE PROBLEMS"
   ]
  },
  {
   "cell_type": "code",
   "execution_count": null,
   "id": "a2ecf4b2-38bf-4e70-8c72-e3af223ef0ef",
   "metadata": {},
   "outputs": [],
   "source": [
    "#1 Create a list with integers from 1 to 10"
   ]
  },
  {
   "cell_type": "code",
   "execution_count": null,
   "id": "7338aeba-27d6-48a4-a382-41210cdbed3b",
   "metadata": {},
   "outputs": [],
   "source": [
    "l=[]\n",
    "for i in range(1,11):\n",
    "    l.append(i)\n",
    "print(l)"
   ]
  },
  {
   "cell_type": "code",
   "execution_count": null,
   "id": "e94a95e2-010c-4c22-a2db-5eb25a567020",
   "metadata": {},
   "outputs": [],
   "source": [
    "#2 Find the length of a list without using the `len()` function"
   ]
  },
  {
   "cell_type": "code",
   "execution_count": null,
   "id": "18b6fb3c-aa69-4977-a9c0-420e454fddb9",
   "metadata": {},
   "outputs": [],
   "source": [
    "l=[1, 2, 3, 4, 5, 6, 7, 8, 9, 10]\n",
    "length=0\n",
    "for i in l:\n",
    "    length+=1\n",
    "print(\"Length of the list is : \",length)"
   ]
  },
  {
   "cell_type": "code",
   "execution_count": null,
   "id": "02715a54-efcb-4f49-b000-543789b30da5",
   "metadata": {},
   "outputs": [],
   "source": [
    "#3 Append an element to the end of a list"
   ]
  },
  {
   "cell_type": "code",
   "execution_count": null,
   "id": "86fcc6b9-248a-45c1-914e-1ac160dac65c",
   "metadata": {},
   "outputs": [],
   "source": [
    "l=[1, 2, 3, 4, 5, 6, 7, 8, 9, 10]\n",
    "l.append(11)\n",
    "print(l)"
   ]
  },
  {
   "cell_type": "code",
   "execution_count": null,
   "id": "f8f649b7-b830-4baa-98a3-56de21b112ac",
   "metadata": {},
   "outputs": [],
   "source": [
    "#4 Insert an element at a specific index in a list"
   ]
  },
  {
   "cell_type": "code",
   "execution_count": null,
   "id": "8d764472-2f50-41bb-b9c1-00b3b58c1baa",
   "metadata": {},
   "outputs": [],
   "source": [
    "l=[1, 2, 3, 4, 5, 6, 7, 8, 9, 10]\n",
    "l.insert(3,44)\n",
    "print(l)"
   ]
  },
  {
   "cell_type": "code",
   "execution_count": null,
   "id": "eb4a5514-e646-4721-88f5-414d059b19bb",
   "metadata": {},
   "outputs": [],
   "source": [
    "#5 Remove an element from a list by its value"
   ]
  },
  {
   "cell_type": "code",
   "execution_count": null,
   "id": "681dbea2-3281-4927-886e-791381106d3d",
   "metadata": {},
   "outputs": [],
   "source": [
    "l=[1, 2, 3, 4, 5, 6, 7, 8, 9, 10]\n",
    "ip=int(input(\"Enter the element to be removed = \"))\n",
    "l.remove(ip)\n",
    "print(l)"
   ]
  },
  {
   "cell_type": "code",
   "execution_count": null,
   "id": "535d1aac-8dd2-4c94-b464-ff53fb1e2549",
   "metadata": {},
   "outputs": [],
   "source": [
    "#6 Remove an element from a list by its index"
   ]
  },
  {
   "cell_type": "code",
   "execution_count": null,
   "id": "b094a8df-1896-4821-8ed6-c22c2d55bb5c",
   "metadata": {},
   "outputs": [],
   "source": [
    "l=[1, 2, 3, 4, 5, 6, 7, 8, 9, 10]\n",
    "ip=int(input(\"Enter the index of the element to be removed = \"))\n",
    "l.pop(ip)\n",
    "print(l)"
   ]
  },
  {
   "cell_type": "code",
   "execution_count": null,
   "id": "e787e0aa-91ba-4881-a386-08af71b73fd2",
   "metadata": {},
   "outputs": [],
   "source": [
    "#7 Check if an element exists in a list"
   ]
  },
  {
   "cell_type": "code",
   "execution_count": null,
   "id": "66060541-57e5-4263-b068-ae315beaf44c",
   "metadata": {},
   "outputs": [],
   "source": [
    "l=[1, 2, 3, 4, 5, 6, 7, 8, 9, 10]\n",
    "ip=int(input(\"Enter an element to check its existance = \"))\n",
    "if ip in l:\n",
    "    print(\"Element exists\")\n",
    "else:\n",
    "    print(\"Element doesn't exist\")"
   ]
  },
  {
   "cell_type": "code",
   "execution_count": null,
   "id": "5f4460fd-81ec-43fa-9361-af114f2660b0",
   "metadata": {},
   "outputs": [],
   "source": [
    "#8 Find the index of the first occurrence of an element in a list"
   ]
  },
  {
   "cell_type": "code",
   "execution_count": null,
   "id": "55173472-f127-4e1e-bbe4-d6a7fb40fe17",
   "metadata": {},
   "outputs": [],
   "source": [
    "l=[1, 2,\"coming\",3, 4, 5,\"on\", 6, 7,\"the\", 8, 9,\"way\", 10]\n",
    "print(l.index('on'))"
   ]
  },
  {
   "cell_type": "code",
   "execution_count": null,
   "id": "ea64e50f-e295-45ac-a8a9-2fe67065b267",
   "metadata": {},
   "outputs": [],
   "source": [
    "#9 Count the occurrences of an element in a list"
   ]
  },
  {
   "cell_type": "code",
   "execution_count": null,
   "id": "b8d2e10d-fed1-4f90-9f15-954960432294",
   "metadata": {},
   "outputs": [],
   "source": [
    "l=[1, 2,\"coming\",2,3, 4, 5,\"on\",2, 6, 7,2,\"the\", 8, 9,\"way\",2, 10]\n",
    "print(l.count(2))"
   ]
  },
  {
   "cell_type": "code",
   "execution_count": null,
   "id": "1581a8b6-b982-43b2-aaa1-7842a77f9d35",
   "metadata": {},
   "outputs": [],
   "source": [
    "#10 Reverse the order of elements in a list"
   ]
  },
  {
   "cell_type": "code",
   "execution_count": null,
   "id": "b57282c8-fb65-4ff9-85b8-81ed0760c181",
   "metadata": {},
   "outputs": [],
   "source": [
    "l=[1, 2,\"coming\",2,3, 4, 5,\"on\",2, 6, 7,2,\"the\", 8, 9,\"way\",2, 10]\n",
    "print(l[::-1])"
   ]
  },
  {
   "cell_type": "code",
   "execution_count": null,
   "id": "99b8bc21-00a3-4396-974d-eb2fc3ab2b37",
   "metadata": {},
   "outputs": [],
   "source": [
    "#11 Sort a list in ascending order."
   ]
  },
  {
   "cell_type": "code",
   "execution_count": null,
   "id": "2e3304e4-ac54-459e-8fc1-5927a69c92dd",
   "metadata": {},
   "outputs": [],
   "source": [
    "l=[1, 245, 3, 44, 5, 67, 37, 18, 9, 2]\n",
    "l.sort()\n",
    "print(l)"
   ]
  },
  {
   "cell_type": "code",
   "execution_count": null,
   "id": "7e188c22-4d48-488b-b07c-98259bdcedbc",
   "metadata": {},
   "outputs": [],
   "source": [
    "#12 Sort a list in descending order"
   ]
  },
  {
   "cell_type": "code",
   "execution_count": null,
   "id": "4d710d9a-696d-4199-8b49-af6388a64f7d",
   "metadata": {},
   "outputs": [],
   "source": [
    "l=[1, 245, 3, 44, 5, 67, 37, 18, 9, 2]\n",
    "l.sort(reverse=True)\n",
    "print(l)"
   ]
  },
  {
   "cell_type": "code",
   "execution_count": null,
   "id": "e984ad2b-e6aa-4a61-ae35-8cd11870a5c0",
   "metadata": {},
   "outputs": [],
   "source": [
    "#13 Create a list of even numbers from 1 to 20"
   ]
  },
  {
   "cell_type": "code",
   "execution_count": null,
   "id": "d98e197e-65d2-4ff3-8165-5157073d7c7a",
   "metadata": {},
   "outputs": [],
   "source": [
    "l=[]\n",
    "for i in range(1,21):\n",
    "    if i%2==0:\n",
    "        l.append(i)\n",
    "print(l)"
   ]
  },
  {
   "cell_type": "code",
   "execution_count": null,
   "id": "0aea6961-c503-4754-8580-76a12770c32d",
   "metadata": {},
   "outputs": [],
   "source": [
    "#14 Create a list of odd numbers from 1 to 20"
   ]
  },
  {
   "cell_type": "code",
   "execution_count": null,
   "id": "66a2e8b6-5ade-4fad-9f15-2878448a895f",
   "metadata": {},
   "outputs": [],
   "source": [
    "l=[]\n",
    "for i in range(1,21):\n",
    "    if i%2!=0:\n",
    "        l.append(i)\n",
    "print(l)"
   ]
  },
  {
   "cell_type": "code",
   "execution_count": null,
   "id": "9a2a3447-cbb4-4b90-b977-7a7a3d18637a",
   "metadata": {},
   "outputs": [],
   "source": [
    "#15 Find the sum of all elements in a list"
   ]
  },
  {
   "cell_type": "code",
   "execution_count": null,
   "id": "1c23bf4c-759a-471f-b2b9-49d156f81fd8",
   "metadata": {},
   "outputs": [],
   "source": [
    "l=[1, 245, 3, 44, 5, 67, 37, 18, 9, 2]\n",
    "sum=0\n",
    "for i in l:\n",
    "    sum=sum+i\n",
    "print(sum)"
   ]
  },
  {
   "cell_type": "code",
   "execution_count": null,
   "id": "1b71003e-1536-4448-b3ea-66eabbe357a1",
   "metadata": {},
   "outputs": [],
   "source": [
    "#16 Find the maximum value in a list"
   ]
  },
  {
   "cell_type": "code",
   "execution_count": null,
   "id": "d81e47fb-8063-4696-a723-a95cef9e65aa",
   "metadata": {},
   "outputs": [],
   "source": [
    "l=[1, 245, 3, 44, 5, 67, 37, 18, 9, 2]\n",
    "sum=1\n",
    "for i in l:\n",
    "    if(i>sum):\n",
    "        sum=i\n",
    "print(sum)"
   ]
  },
  {
   "cell_type": "code",
   "execution_count": null,
   "id": "de820848-b8e3-43ba-b890-159e31f41c91",
   "metadata": {},
   "outputs": [],
   "source": [
    "#17 Find the minimum value in a list "
   ]
  },
  {
   "cell_type": "code",
   "execution_count": null,
   "id": "69b984f2-07b9-4949-b1db-8931d0c53853",
   "metadata": {},
   "outputs": [],
   "source": [
    "l=[1, 245, 3, 44, 5, 67, 37, 18, 9,-23, 2]\n",
    "sum=1\n",
    "for i in l:\n",
    "    if(i<sum):\n",
    "        sum=i\n",
    "print(sum)"
   ]
  },
  {
   "cell_type": "code",
   "execution_count": null,
   "id": "ab3d5b76-e30e-40d3-a2c7-ae74d99a87f6",
   "metadata": {},
   "outputs": [],
   "source": [
    "#18 Create a list of squares of numbers from 1 to 10"
   ]
  },
  {
   "cell_type": "code",
   "execution_count": null,
   "id": "01cc2747-395d-4e51-a2fe-151440ffefe3",
   "metadata": {},
   "outputs": [],
   "source": [
    "l=[]\n",
    "for i in range(1,11):\n",
    "    l.append(i*i)\n",
    "print(l)"
   ]
  },
  {
   "cell_type": "code",
   "execution_count": null,
   "id": "57c1c7e8-74f4-4240-8360-2c4fe69def41",
   "metadata": {},
   "outputs": [],
   "source": [
    "#19 Create a list of random numbers"
   ]
  },
  {
   "cell_type": "code",
   "execution_count": null,
   "id": "caf58d38-11a3-4a95-a82f-ea223f612b99",
   "metadata": {},
   "outputs": [],
   "source": [
    "import random\n",
    "random=[random.randint(1,100) for i in range(10)]\n",
    "print(random) "
   ]
  },
  {
   "cell_type": "code",
   "execution_count": null,
   "id": "55f53d4d-49bb-4824-905c-4168d683e2f2",
   "metadata": {},
   "outputs": [],
   "source": [
    "#20 Remove duplicates from a list."
   ]
  },
  {
   "cell_type": "code",
   "execution_count": null,
   "id": "ed60c92b-411d-4687-97e7-6c0bbea3b590",
   "metadata": {},
   "outputs": [],
   "source": [
    "l=[1, 2,\"coming\",2,3, 4, 5,\"on\",2, 6, 7,2,\"the\", 8, 9,\"way\",2, 10]\n",
    "s=set(l)\n",
    "k=list(s)\n",
    "print(k)"
   ]
  },
  {
   "cell_type": "code",
   "execution_count": null,
   "id": "5a0d6d26-ea39-48d0-aac7-b4568c2057c5",
   "metadata": {},
   "outputs": [],
   "source": [
    "#21 Find the common elements between two lists"
   ]
  },
  {
   "cell_type": "code",
   "execution_count": null,
   "id": "ae5d2033-7f1e-4b2f-a117-71014b9e7baf",
   "metadata": {},
   "outputs": [],
   "source": [
    "l=[1, 2, 3, 4, 5, 6, 7, 8, 9, 10]\n",
    "m=[7, 8, 9, 10, 11, 12, 13, 14, 15, 16, 17, 18, 19, 20]\n",
    "common=[i for i in l if i in m]\n",
    "print(common)"
   ]
  },
  {
   "cell_type": "code",
   "execution_count": null,
   "id": "594dfcf1-d732-4977-85f7-b46108fcaf39",
   "metadata": {},
   "outputs": [],
   "source": [
    "#22 Find the difference between two lists"
   ]
  },
  {
   "cell_type": "code",
   "execution_count": null,
   "id": "7f1250ab-39e3-410a-9d7a-45214a70ac16",
   "metadata": {},
   "outputs": [],
   "source": [
    "l=[1, 2, 3, 4, 5, 6, 7, 8, 9, 10]\n",
    "m=[7, 8, 9, 10, 11, 12, 13, 14, 15, 16, 17, 18, 19, 20]\n",
    "d1=[i for i in l if i not in m]\n",
    "d2=[i for i in m if i not in l]\n",
    "lst=d1.__add__(d2)\n",
    "print(lst)"
   ]
  },
  {
   "cell_type": "code",
   "execution_count": null,
   "id": "a8aa6c27-3af8-4875-bf0b-d3a8e39b91c4",
   "metadata": {},
   "outputs": [],
   "source": [
    "#23 Merge two lists"
   ]
  },
  {
   "cell_type": "code",
   "execution_count": null,
   "id": "73938f41-b8fb-42ed-aba5-1a5a334ea72f",
   "metadata": {},
   "outputs": [],
   "source": [
    "l=[1, 2, 3, 4, 5, 6, 7, 8, 9, 10]\n",
    "m=[7, 8, 9, 10, 11, 12, 13, 14, 15, 16, 17, 18, 19, 20]\n",
    "lst=l.__add__(m)\n",
    "s=set(lst)\n",
    "print(list(s))"
   ]
  },
  {
   "cell_type": "code",
   "execution_count": null,
   "id": "93dcc617-3872-49c7-8207-8892b01b2b8f",
   "metadata": {},
   "outputs": [],
   "source": [
    "#24 Multiply all elements in a list by 2 "
   ]
  },
  {
   "cell_type": "code",
   "execution_count": null,
   "id": "02c5407e-6b0a-4dd5-912c-2f90f70ab5a0",
   "metadata": {},
   "outputs": [],
   "source": [
    "l=[1, 2, 3, 4, 5, 6, 7, 8, 9, 10]\n",
    "m=[]\n",
    "for i in l:\n",
    "    m.append(i*2)\n",
    "print(m)"
   ]
  },
  {
   "cell_type": "code",
   "execution_count": null,
   "id": "03f246c9-7b52-400f-b4f1-b85b795068f8",
   "metadata": {},
   "outputs": [],
   "source": [
    "#25 Filter out all even numbers from a list"
   ]
  },
  {
   "cell_type": "code",
   "execution_count": null,
   "id": "7ce91353-d94b-4393-9e97-79401ec796bb",
   "metadata": {},
   "outputs": [],
   "source": [
    "l=[1, 2, 3, 4, 5, 6, 7, 8, 9, 10]\n",
    "even=[x for x in l if %2==0]\n",
    "print(even)"
   ]
  },
  {
   "cell_type": "code",
   "execution_count": null,
   "id": "0d736709-a119-4524-85cd-01deeaf86917",
   "metadata": {},
   "outputs": [],
   "source": [
    "#26 Convert a list of strings to a list of integers"
   ]
  },
  {
   "cell_type": "code",
   "execution_count": null,
   "id": "a00198b4-8abc-400f-9100-f220c09f5ad9",
   "metadata": {},
   "outputs": [],
   "source": [
    "l=[\"1\",\"3\",\"4\",\"5\",\"6\",\"7\",\"8\",\"9\"]\n",
    "m=[int(i) for i in l]\n",
    "print(m)"
   ]
  },
  {
   "cell_type": "code",
   "execution_count": null,
   "id": "c30ac16a-4d92-45a3-bfc7-84aadf6b98c8",
   "metadata": {},
   "outputs": [],
   "source": [
    "#27 Convert a list of integers to a list of strings"
   ]
  },
  {
   "cell_type": "code",
   "execution_count": null,
   "id": "514c2727-dd2c-4330-bca3-680833fd491f",
   "metadata": {},
   "outputs": [],
   "source": [
    "l=[1, 3, 4, 5, 6, 7, 8, 9]\n",
    "m=[str(i) for i in l]\n",
    "print(m)"
   ]
  },
  {
   "cell_type": "code",
   "execution_count": null,
   "id": "d138cba0-f996-4753-a1fb-b4500bc3e0c4",
   "metadata": {},
   "outputs": [],
   "source": [
    "#28 Flatten a nested list"
   ]
  },
  {
   "cell_type": "code",
   "execution_count": null,
   "id": "43647117-ec58-45d2-afd8-856224f12c02",
   "metadata": {},
   "outputs": [],
   "source": [
    "l=[[1, 2, 3], [4, 5], [6]]\n",
    "m=[x for sublist in l for x in sublist]\n",
    "print(m)"
   ]
  },
  {
   "cell_type": "code",
   "execution_count": null,
   "id": "3e2b0a2e-5fd9-4da6-9fa6-ec503fcc4831",
   "metadata": {},
   "outputs": [],
   "source": [
    "#29 Create a list of the first 10 Fibonacci numbers"
   ]
  },
  {
   "cell_type": "code",
   "execution_count": null,
   "id": "9648f83f-623c-4d30-a224-19fd9c3bb5fe",
   "metadata": {},
   "outputs": [],
   "source": [
    "fib=[0,1]\n",
    "while len(fib)<10:\n",
    "    n=fib[-1]+fib[-2]\n",
    "    fib.append(n)\n",
    "print(fib)"
   ]
  },
  {
   "cell_type": "code",
   "execution_count": null,
   "id": "838ae1dc-5fdf-4a26-a33b-40aa849cb9fd",
   "metadata": {},
   "outputs": [],
   "source": [
    "#30 Check if a list is sorted"
   ]
  },
  {
   "cell_type": "code",
   "execution_count": null,
   "id": "67435116-eef4-42ba-86f9-dc71728f7edd",
   "metadata": {},
   "outputs": [],
   "source": [
    "l=[0, 1, 1, 2, 3, 5, 8, 13, 21, 34]\n",
    "m=sorted(l)\n",
    "if m==l:\n",
    "    print(\"list is sorted\")\n",
    "else:\n",
    "    print(\"list is not sorted\")"
   ]
  },
  {
   "cell_type": "code",
   "execution_count": null,
   "id": "9ae48d53-f7c7-4daf-9728-61ff4b72593b",
   "metadata": {},
   "outputs": [],
   "source": [
    "#31 Rotate a list to the left by `n` positions"
   ]
  },
  {
   "cell_type": "code",
   "execution_count": null,
   "id": "7c0d4af1-10cb-42cb-bb34-f7486f9c55fe",
   "metadata": {},
   "outputs": [],
   "source": [
    "n=2\n",
    "num= [1, 2, 3, 4, 5]\n",
    "rl=num[n:]+num[:n]\n",
    "print(rl)"
   ]
  },
  {
   "cell_type": "code",
   "execution_count": null,
   "id": "d17bf911-0893-4f7e-adaa-cdcca05a57be",
   "metadata": {},
   "outputs": [],
   "source": [
    "#32 Rotate a list to the right by `n` positions"
   ]
  },
  {
   "cell_type": "code",
   "execution_count": null,
   "id": "9c4cb70b-0286-4add-a644-f243b1e8e115",
   "metadata": {},
   "outputs": [],
   "source": [
    "n=2\n",
    "num= [1, 2, 3, 4, 5]\n",
    "rl=num[-n:]+num[:-n]\n",
    "print(rl)"
   ]
  },
  {
   "cell_type": "code",
   "execution_count": null,
   "id": "b71f4cec-68f8-4b67-a557-2a7fa8a85518",
   "metadata": {},
   "outputs": [],
   "source": [
    "#33 Create a list of prime numbers up to 50"
   ]
  },
  {
   "cell_type": "code",
   "execution_count": null,
   "id": "0d2d55d4-d669-4475-a5df-83659da462ad",
   "metadata": {},
   "outputs": [],
   "source": [
    "primes = []\n",
    "for num in range(2, 51):\n",
    "    is_prime = True\n",
    "    for i in range(2, int(num ** 0.5) + 1):\n",
    "        if num % i == 0:\n",
    "            is_prime = False\n",
    "            break\n",
    "    if is_prime:\n",
    "        primes.append(num)\n",
    "print(primes)"
   ]
  },
  {
   "cell_type": "code",
   "execution_count": null,
   "id": "43bbb0b9-6d10-496f-ae13-4fbf2027bcc9",
   "metadata": {},
   "outputs": [],
   "source": [
    "#34 Split a list into chunks of size `n`"
   ]
  },
  {
   "cell_type": "code",
   "execution_count": null,
   "id": "346319c8-32e8-4e70-bb33-0fcf85bbfe28",
   "metadata": {},
   "outputs": [],
   "source": [
    "n=3\n",
    "l=[1, 2, 3, 4, 5, 6, 7, 8, 9]\n"
   ]
  },
  {
   "cell_type": "code",
   "execution_count": null,
   "id": "1e209202-5eae-4896-9720-2cf7c89ae448",
   "metadata": {},
   "outputs": [],
   "source": [
    "#35 Split a list into chunks of size `n`"
   ]
  },
  {
   "cell_type": "code",
   "execution_count": null,
   "id": "4bfc70e2-48d7-459a-b385-75a6fd2a48bd",
   "metadata": {},
   "outputs": [],
   "source": [
    "n=3\n",
    "numbers=[1, 2, 3, 4, 5, 6, 7, 8, 9]\n",
    "chunks=[numbers[i:i+n] for i in range(0,len(numbers),n)]\n",
    "print(chunks)"
   ]
  },
  {
   "cell_type": "code",
   "execution_count": null,
   "id": "518c89f0-1e3f-4597-8067-e5eb7f073782",
   "metadata": {},
   "outputs": [],
   "source": [
    "#36 Find the second largest number in a list"
   ]
  },
  {
   "cell_type": "code",
   "execution_count": null,
   "id": "5060cda4-b43e-4e75-9e8f-bbf63d3b4abb",
   "metadata": {},
   "outputs": [],
   "source": [
    "l=[1, 245, 3, 44, 5, 67, 37, 18, 9, 2]\n",
    "c=sorted(l)\n",
    "print(c[-2])"
   ]
  },
  {
   "cell_type": "code",
   "execution_count": null,
   "id": "1492f16b-5491-459b-81a4-f4ec42195688",
   "metadata": {},
   "outputs": [],
   "source": [
    "#37 Replace every element in a list with its square."
   ]
  },
  {
   "cell_type": "code",
   "execution_count": null,
   "id": "47150b0d-348b-4139-a6ad-79bc12a0382e",
   "metadata": {},
   "outputs": [],
   "source": [
    "l=[1, 245, 3, 44, 5, 67, 37, 18, 9, 2]\n",
    "c=[]\n",
    "for i in l:\n",
    "    c.append(i*i)\n",
    "print(c)"
   ]
  },
  {
   "cell_type": "code",
   "execution_count": null,
   "id": "6542d588-3d4b-4542-bb2a-5faec91f5bca",
   "metadata": {},
   "outputs": [],
   "source": [
    "#38 Shuffle the elements of a list randomly"
   ]
  },
  {
   "cell_type": "code",
   "execution_count": null,
   "id": "6707f026-dc26-4be6-b1d8-60e601d59c82",
   "metadata": {},
   "outputs": [],
   "source": [
    "import random\n",
    "l=[1, 245, 3, 44, 5, 67, 37, 18, 9, 2]\n",
    "random.shuffle(l)\n",
    "print(l)"
   ]
  },
  {
   "cell_type": "code",
   "execution_count": null,
   "id": "c69b2f83-43b7-44d3-88ab-a688521280d4",
   "metadata": {},
   "outputs": [],
   "source": [
    "#39 Create a list of the first 10 factorial numbers"
   ]
  },
  {
   "cell_type": "code",
   "execution_count": null,
   "id": "c5c76ff6-9436-49cb-b2d5-3f6a0fd59931",
   "metadata": {},
   "outputs": [],
   "source": [
    "factorials=[1]\n",
    "for i in range(1,11):\n",
    "    factorials.append(factorials[-1]*i)\n",
    "print(factorials)"
   ]
  },
  {
   "cell_type": "code",
   "execution_count": null,
   "id": "b4ddb3c9-218d-48b0-ae45-68276cb2c238",
   "metadata": {},
   "outputs": [],
   "source": [
    "#40 Check if two lists have at least one element in common"
   ]
  },
  {
   "cell_type": "code",
   "execution_count": null,
   "id": "6d4e9229-3f50-45fd-bb88-2f48415d72b4",
   "metadata": {},
   "outputs": [],
   "source": [
    "l=[1, 2, 3, 4, 5, 6, 7, 8, 9, 10]\n",
    "m=[7, 8, 9, 10, 11, 12, 13, 14, 15, 16, 17, 18, 19, 20]\n",
    "c=[]\n",
    "for i in l:\n",
    "    if i in m:\n",
    "        c.append(i)\n",
    "print(\"common elements = \",c)"
   ]
  },
  {
   "cell_type": "code",
   "execution_count": null,
   "id": "d368554d-011e-422a-842f-2dbe7ccae878",
   "metadata": {},
   "outputs": [],
   "source": [
    "#41 Remove all elements from a list"
   ]
  },
  {
   "cell_type": "code",
   "execution_count": null,
   "id": "f985bdca-1382-4cf5-8d71-214fccc2051b",
   "metadata": {},
   "outputs": [],
   "source": [
    "l=[1, 2, 3, 4, 5, 6, 7, 8, 9, 10]\n",
    "l.clear()\n",
    "print(l)"
   ]
  },
  {
   "cell_type": "code",
   "execution_count": null,
   "id": "b0a6f6a6-3d86-4a85-a726-9cac7a4f01fb",
   "metadata": {},
   "outputs": [],
   "source": [
    "#42 Replace negative numbers in a list with 0"
   ]
  },
  {
   "cell_type": "code",
   "execution_count": null,
   "id": "e69d7eee-cf73-4ab4-a487-8d99195747af",
   "metadata": {},
   "outputs": [],
   "source": [
    "l=[1, 2, 3, 4,-6, 5, 6, 7,-34, 8, 9, 10,-22,-3]\n",
    "l=[x if x>=0 else 0 for x in l]\n",
    "print(l)"
   ]
  },
  {
   "cell_type": "code",
   "execution_count": null,
   "id": "62379d26-ee86-4f6e-814f-b1f63369323e",
   "metadata": {},
   "outputs": [],
   "source": [
    "#43 Convert a string into a list of words"
   ]
  },
  {
   "cell_type": "code",
   "execution_count": null,
   "id": "58155f65-4bd2-49ef-adf9-62c1419810a4",
   "metadata": {},
   "outputs": [],
   "source": [
    "c=\"the database of the system is in a critical stage\"\n",
    "l=c.split()\n",
    "print(l)\n",
    "print(type(l))"
   ]
  },
  {
   "cell_type": "code",
   "execution_count": null,
   "id": "5b1b7d7d-3a1f-42cd-ba2c-fae53ee03cc2",
   "metadata": {},
   "outputs": [],
   "source": [
    "#44 Convert a list of words into a string"
   ]
  },
  {
   "cell_type": "code",
   "execution_count": null,
   "id": "e15ac331-2c2c-4d7e-8379-3fc6167282a9",
   "metadata": {},
   "outputs": [],
   "source": [
    "l=['the', 'database', 'of', 'the', 'system', 'is', 'in', 'a', 'critical', 'stage']\n",
    "print(\" \".join(l))"
   ]
  },
  {
   "cell_type": "code",
   "execution_count": null,
   "id": "ded1ddbd-1c23-446d-ad02-c2dc634032a2",
   "metadata": {},
   "outputs": [],
   "source": [
    "#45 Create a list of the first `n` powers of 2"
   ]
  },
  {
   "cell_type": "code",
   "execution_count": null,
   "id": "0ab985e3-13e2-4137-afa0-1fc2c88ec490",
   "metadata": {},
   "outputs": [],
   "source": [
    "l=[]\n",
    "n=10\n",
    "for i in range(1,n+1):\n",
    "    l.append(i*i)\n",
    "print(l)"
   ]
  },
  {
   "cell_type": "code",
   "execution_count": null,
   "id": "ee5a7649-606d-4900-a719-8292eb31f207",
   "metadata": {},
   "outputs": [],
   "source": [
    "#46 Find the longest string in a list of strings"
   ]
  },
  {
   "cell_type": "code",
   "execution_count": null,
   "id": "aa0b986d-d7df-4fe6-9970-47697e8e937a",
   "metadata": {},
   "outputs": [],
   "source": [
    "l=['the', 'database', 'of', 'the', 'system', 'is', 'in', 'a', 'stage']\n",
    "m=l[0]\n",
    "for i in l:\n",
    "    if len(i)>len(m):\n",
    "        m=i\n",
    "print(m)"
   ]
  },
  {
   "cell_type": "code",
   "execution_count": null,
   "id": "9fff0906-bfc6-4a4f-877f-f35ebeaf2ff9",
   "metadata": {},
   "outputs": [],
   "source": [
    "#47 Find the shortest string in a list of strings"
   ]
  },
  {
   "cell_type": "code",
   "execution_count": null,
   "id": "29c9a95e-0249-415a-84a6-f19261c4af8d",
   "metadata": {},
   "outputs": [],
   "source": [
    "l=['the', 'database', 'of', 'the', 'system', 'is', 'in', 'a', 'stage']\n",
    "m=l[0]\n",
    "for i in l:\n",
    "    if len(i)<len(m):\n",
    "        m=i\n",
    "print(m)"
   ]
  },
  {
   "cell_type": "code",
   "execution_count": null,
   "id": "4ea31d73-b463-4da2-96dc-1df5b9e62be6",
   "metadata": {},
   "outputs": [],
   "source": [
    "#48  Create a list of the first `n` triangular numbers"
   ]
  },
  {
   "cell_type": "code",
   "execution_count": null,
   "id": "620674ca-b6f9-4064-9407-2c02acbfa8ff",
   "metadata": {},
   "outputs": [],
   "source": [
    "n=5\n",
    "l=[i*(i + 1)//2 for i in range(1,n+1)]\n",
    "print(l)"
   ]
  },
  {
   "cell_type": "code",
   "execution_count": null,
   "id": "5868aee9-1983-4363-a6e0-a7328bb2301f",
   "metadata": {},
   "outputs": [],
   "source": [
    "#49 Check if a list contains another list as a subsequence"
   ]
  },
  {
   "cell_type": "code",
   "execution_count": null,
   "id": "62fac08e-2e79-4e5a-8279-ab8ebb7df3e5",
   "metadata": {},
   "outputs": [],
   "source": [
    "l1=[1, 2, 3, 4, 5]\n",
    "l2=[2, 3, 4]\n",
    "m=all(x in l1 for x in l2)\n",
    "print(m)"
   ]
  },
  {
   "cell_type": "code",
   "execution_count": null,
   "id": "2cd2f51a-e04c-45d6-b9c4-5128c7ca9bc5",
   "metadata": {},
   "outputs": [],
   "source": [
    "#50 Swap two elements in a list by their indices"
   ]
  },
  {
   "cell_type": "code",
   "execution_count": null,
   "id": "0315a464-9be0-410d-8980-bbe5220cb5ee",
   "metadata": {},
   "outputs": [],
   "source": [
    "l=[1, 2, 3, 4, 5]\n",
    "n1,n2=1,3\n",
    "l[n1],l[n2]=l[n2],l[n1]\n",
    "print(l)"
   ]
  },
  {
   "cell_type": "code",
   "execution_count": null,
   "id": "868b86e9-e453-4248-a22c-694583be64c4",
   "metadata": {},
   "outputs": [],
   "source": [
    "#TUPLE BASED PRACTICE PROBLEMS"
   ]
  },
  {
   "cell_type": "code",
   "execution_count": null,
   "id": "3759de03-94d8-424d-907f-b38d5a4d8d84",
   "metadata": {},
   "outputs": [],
   "source": [
    "#1 Create a tuple with integers from 1 to 5"
   ]
  },
  {
   "cell_type": "code",
   "execution_count": null,
   "id": "4b561ad5-aed7-459a-8fec-67cbe9aeef58",
   "metadata": {},
   "outputs": [],
   "source": [
    "t=(1,2,3,4,5)\n",
    "print(t,type(t))"
   ]
  },
  {
   "cell_type": "code",
   "execution_count": null,
   "id": "8766816e-4e12-4778-9192-f08670924941",
   "metadata": {},
   "outputs": [],
   "source": [
    "#2 Access the third element of a tuple"
   ]
  },
  {
   "cell_type": "code",
   "execution_count": null,
   "id": "70ce1d14-bb5f-4d20-bb49-ad5dffc7b630",
   "metadata": {},
   "outputs": [],
   "source": [
    "t=(1,2,3,4,5)\n",
    "print(t[2])"
   ]
  },
  {
   "cell_type": "code",
   "execution_count": null,
   "id": "949c278f-3fa5-45ba-a077-9a14ddaae2c5",
   "metadata": {},
   "outputs": [],
   "source": [
    "#3 Find the length of a tuple without using the `len()` function"
   ]
  },
  {
   "cell_type": "code",
   "execution_count": null,
   "id": "d43ed980-4fd0-4a5c-9a28-d55d3b74dae4",
   "metadata": {},
   "outputs": [],
   "source": [
    "t=(1,2,3,4,5)\n",
    "len=0\n",
    "for i in t:\n",
    "    len+=1\n",
    "print(len)"
   ]
  },
  {
   "cell_type": "code",
   "execution_count": null,
   "id": "d784da0c-a9fd-4d34-99ee-3d6825b62d29",
   "metadata": {},
   "outputs": [],
   "source": [
    "#4 Count the occurrences of an element in a tuple"
   ]
  },
  {
   "cell_type": "code",
   "execution_count": null,
   "id": "230ff416-cb7e-4a7f-9dd7-524e64b057f1",
   "metadata": {},
   "outputs": [],
   "source": [
    "t=(1,2,3,4,5,5)\n",
    "t=t.count(5)\n",
    "print(t)"
   ]
  },
  {
   "cell_type": "code",
   "execution_count": null,
   "id": "14290e64-d1b5-46bd-abe1-9e3883228ca4",
   "metadata": {},
   "outputs": [],
   "source": [
    "#5 Find the index of the first occurrence of an element in a tuple"
   ]
  },
  {
   "cell_type": "code",
   "execution_count": null,
   "id": "d9395ba2-d0f4-4452-b12c-6567781c3842",
   "metadata": {},
   "outputs": [],
   "source": [
    "t=(1,2,3,4,5,5)\n",
    "t=t.index(5)\n",
    "print(t)"
   ]
  },
  {
   "cell_type": "code",
   "execution_count": null,
   "id": "706b59d1-3c50-486f-a922-dd6a5ccc09ee",
   "metadata": {},
   "outputs": [],
   "source": [
    "#6 Check if an element exists in a tuple"
   ]
  },
  {
   "cell_type": "code",
   "execution_count": null,
   "id": "3a57189f-8d68-4503-b560-9f5ab16abaf2",
   "metadata": {},
   "outputs": [],
   "source": [
    "t=(1,2,3,4,5,5)\n",
    "e=2 in t\n",
    "print(e)"
   ]
  },
  {
   "cell_type": "code",
   "execution_count": null,
   "id": "49916ec9-15d9-401c-854a-dd5d07f50045",
   "metadata": {},
   "outputs": [],
   "source": [
    "#7 Convert a tuple to a list"
   ]
  },
  {
   "cell_type": "code",
   "execution_count": null,
   "id": "b027080b-2ebc-4756-b10f-b5abd6f7e224",
   "metadata": {},
   "outputs": [],
   "source": [
    "t=(1,2,3,4,5,5)\n",
    "print(list(t))"
   ]
  },
  {
   "cell_type": "code",
   "execution_count": null,
   "id": "18e67571-e4e4-4dc3-b0fc-c830ba56804a",
   "metadata": {},
   "outputs": [],
   "source": [
    "#8 Convert a list to a tuple"
   ]
  },
  {
   "cell_type": "code",
   "execution_count": null,
   "id": "7a813a02-96d4-4725-a2df-4a8895b95c84",
   "metadata": {},
   "outputs": [],
   "source": [
    "l=[1, 2, 3, 4, 5, 5]\n",
    "print(tuple(l))"
   ]
  },
  {
   "cell_type": "code",
   "execution_count": null,
   "id": "f559038c-23c1-4489-ad89-3b03394ad318",
   "metadata": {},
   "outputs": [],
   "source": [
    "#9 Unpack the elements of a tuple into variables"
   ]
  },
  {
   "cell_type": "code",
   "execution_count": null,
   "id": "3c20b3f4-a9b6-4d19-927f-1b595e29b7ff",
   "metadata": {},
   "outputs": [],
   "source": [
    "t=(1, 2, 3, 4, 5)\n",
    "a,b,c,d,e=t\n",
    "print(a, b, c, d, e)"
   ]
  },
  {
   "cell_type": "code",
   "execution_count": null,
   "id": "753d24f3-3800-46dd-8bea-0dd577d23ac3",
   "metadata": {},
   "outputs": [],
   "source": [
    "#10 Create a tuple of even numbers from 1 to 10"
   ]
  },
  {
   "cell_type": "code",
   "execution_count": null,
   "id": "0323a403-e1ce-48e4-a60e-a2f98074cf08",
   "metadata": {},
   "outputs": [],
   "source": [
    "t=tuple(range(2,11,2))\n",
    "print(t)"
   ]
  },
  {
   "cell_type": "code",
   "execution_count": null,
   "id": "c8e01fd5-f4d8-4c4b-bed1-51f0e821a9b1",
   "metadata": {},
   "outputs": [],
   "source": [
    "#11 Create a tuple of odd numbers from 1 to 10"
   ]
  },
  {
   "cell_type": "code",
   "execution_count": null,
   "id": "e5aefd1f-2508-4e2c-8b36-6254c3af15b9",
   "metadata": {},
   "outputs": [],
   "source": [
    "t=tuple(range(1,11,2))\n",
    "print(t)"
   ]
  },
  {
   "cell_type": "code",
   "execution_count": null,
   "id": "fd8e3807-dc63-4488-85b3-50439103c033",
   "metadata": {},
   "outputs": [],
   "source": [
    "#12 Concatenate two tuples"
   ]
  },
  {
   "cell_type": "code",
   "execution_count": null,
   "id": "a23cb931-de37-4c80-b029-2f2bf02fd6f4",
   "metadata": {},
   "outputs": [],
   "source": [
    "t=(1, 2, 3, 4, 5)\n",
    "u=(6,7,8,9,10)\n",
    "print(t+u)"
   ]
  },
  {
   "cell_type": "code",
   "execution_count": null,
   "id": "3355090d-f2c4-4d38-aeb4-f6d65fee70c7",
   "metadata": {},
   "outputs": [],
   "source": [
    "#13 Repeat a tuple three times"
   ]
  },
  {
   "cell_type": "code",
   "execution_count": null,
   "id": "971d7a66-8d52-4cd7-aa65-c60edae89aa1",
   "metadata": {},
   "outputs": [],
   "source": [
    "t=(1, 2, 3, 4, 5)\n",
    "print(t*3)"
   ]
  },
  {
   "cell_type": "code",
   "execution_count": null,
   "id": "bb5f6465-cca6-43ec-a7b9-b5adf5cb65c7",
   "metadata": {},
   "outputs": [],
   "source": [
    "#14 Check if a tuple is empty"
   ]
  },
  {
   "cell_type": "code",
   "execution_count": null,
   "id": "e429cb0d-267f-418e-812c-7a86c62815e4",
   "metadata": {},
   "outputs": [],
   "source": [
    "t=()\n",
    "u=len(t)==0\n",
    "print(u)"
   ]
  },
  {
   "cell_type": "code",
   "execution_count": null,
   "id": "18549829-80ae-4623-a7f9-8611ac804c74",
   "metadata": {},
   "outputs": [],
   "source": [
    "#15 Create a nested tuple"
   ]
  },
  {
   "cell_type": "code",
   "execution_count": null,
   "id": "7f55c59e-d67a-4519-b4dd-4ab874f7e755",
   "metadata": {},
   "outputs": [],
   "source": [
    "nt=((1, 2), (3, 4), (5, 6))\n",
    "print(nt)"
   ]
  },
  {
   "cell_type": "code",
   "execution_count": null,
   "id": "dbc6248b-10c8-4523-9e50-7bfe7636ca05",
   "metadata": {},
   "outputs": [],
   "source": [
    "#16 Access the first element of a nested tuple"
   ]
  },
  {
   "cell_type": "code",
   "execution_count": null,
   "id": "1d14ff84-0df9-4dfe-aae2-e9d58811e1c3",
   "metadata": {},
   "outputs": [],
   "source": [
    "nt=((1, 2), (3, 4), (5, 6))\n",
    "print(nt[0][0])"
   ]
  },
  {
   "cell_type": "code",
   "execution_count": null,
   "id": "cd1b1ad8-7950-4502-805d-15768a693519",
   "metadata": {},
   "outputs": [],
   "source": [
    "#17 Create a tuple with a single element"
   ]
  },
  {
   "cell_type": "code",
   "execution_count": null,
   "id": "baa6a770-54d4-4f94-ab9f-f4dbc278316d",
   "metadata": {},
   "outputs": [],
   "source": [
    "t=(4,)\n",
    "print(type(t))"
   ]
  },
  {
   "cell_type": "code",
   "execution_count": null,
   "id": "208154ed-a23d-46b1-9b9f-d80e0c6adf20",
   "metadata": {},
   "outputs": [],
   "source": [
    "#18 Compare two tuples"
   ]
  },
  {
   "cell_type": "code",
   "execution_count": null,
   "id": "ab0a5532-8afd-48c5-a14d-25b83d675962",
   "metadata": {},
   "outputs": [],
   "source": [
    "t=(1, 2, 3, 4, 5)\n",
    "u=(6,7,8,9,10)\n",
    "x=u==t\n",
    "print(x)"
   ]
  },
  {
   "cell_type": "code",
   "execution_count": null,
   "id": "4e1ec433-8037-4b21-9361-6c9f077537a4",
   "metadata": {},
   "outputs": [],
   "source": [
    "#19 Delete a tuple"
   ]
  },
  {
   "cell_type": "code",
   "execution_count": null,
   "id": "bae3dfec-373f-4f05-a4a1-5c51f9d934d6",
   "metadata": {},
   "outputs": [],
   "source": [
    "t=(1, 2, 3, 4, 5)\n",
    "del t\n",
    "print(t)"
   ]
  },
  {
   "cell_type": "code",
   "execution_count": null,
   "id": "2fe754de-cbea-439b-a92b-00503f545ad7",
   "metadata": {},
   "outputs": [],
   "source": [
    "#20 Slice a tuple"
   ]
  },
  {
   "cell_type": "code",
   "execution_count": null,
   "id": "7d000916-d122-4946-a04f-b2100751dfb4",
   "metadata": {},
   "outputs": [],
   "source": [
    "t=(1, 2, 3, 4, 5)\n",
    "print(t[1:3])"
   ]
  },
  {
   "cell_type": "code",
   "execution_count": null,
   "id": "a74e9742-df0e-4f1e-a823-ccc1ff8e31aa",
   "metadata": {},
   "outputs": [],
   "source": [
    "#21 Find the maximum value in a tuple"
   ]
  },
  {
   "cell_type": "code",
   "execution_count": null,
   "id": "6952583e-6d29-4614-b7cd-cc6775992a9f",
   "metadata": {},
   "outputs": [],
   "source": [
    "t=(1, 2, 3, 4, 5)\n",
    "u=max(t)\n",
    "print(u)"
   ]
  },
  {
   "cell_type": "code",
   "execution_count": null,
   "id": "2ddd782e-5096-4010-ab82-b2b0bb3f9b32",
   "metadata": {},
   "outputs": [],
   "source": [
    "#22 Find the minimum value in a tuple"
   ]
  },
  {
   "cell_type": "code",
   "execution_count": null,
   "id": "24eeac34-581a-4c4d-81b8-3e6e05249eb8",
   "metadata": {},
   "outputs": [],
   "source": [
    "t=(1, 2, 3, 4, 5)\n",
    "u=min(t)\n",
    "print(u)"
   ]
  },
  {
   "cell_type": "code",
   "execution_count": null,
   "id": "b967dbf1-fab1-46d3-a52d-85ad3852e5db",
   "metadata": {},
   "outputs": [],
   "source": [
    "#23 Convert a string to a tuple of characters"
   ]
  },
  {
   "cell_type": "code",
   "execution_count": null,
   "id": "4ce23400-9a0d-40ba-b5de-9ed9710f679a",
   "metadata": {},
   "outputs": [],
   "source": [
    "s=\"Heading towards the horizon\"\n",
    "t=tuple(s.split())\n",
    "print(t)"
   ]
  },
  {
   "cell_type": "code",
   "execution_count": null,
   "id": "f3f976a5-7e94-491a-9a05-2915864f1854",
   "metadata": {},
   "outputs": [],
   "source": [
    "#24 Convert a tuple of characters to a string"
   ]
  },
  {
   "cell_type": "code",
   "execution_count": null,
   "id": "70ee50f2-16e9-4234-8192-ba8b2ce80b96",
   "metadata": {},
   "outputs": [],
   "source": [
    "t=('Heading', 'towards', 'the', 'horizon')\n",
    "print(\" \".join(t))"
   ]
  },
  {
   "cell_type": "code",
   "execution_count": null,
   "id": "79a1d808-fc00-473b-a388-1f9652ce1158",
   "metadata": {},
   "outputs": [],
   "source": [
    "#25 Create a tuple from multiple data types"
   ]
  },
  {
   "cell_type": "code",
   "execution_count": null,
   "id": "34e479aa-2405-4198-99de-c1c76d200d24",
   "metadata": {},
   "outputs": [],
   "source": [
    "t = (1, \"hello\", 3.14, True)\n",
    "print(t)"
   ]
  },
  {
   "cell_type": "code",
   "execution_count": null,
   "id": "4bed18cc-4b7a-4536-a10f-03aa835cc979",
   "metadata": {},
   "outputs": [],
   "source": [
    "#26 Check if two tuples are identical"
   ]
  },
  {
   "cell_type": "code",
   "execution_count": null,
   "id": "a92e301d-b27a-4adc-bb7f-f2278b3c913c",
   "metadata": {},
   "outputs": [],
   "source": [
    "t = (1, 2, 3)\n",
    "u = (1, 2, 3)\n",
    "x=t==u\n",
    "print(x)"
   ]
  },
  {
   "cell_type": "code",
   "execution_count": null,
   "id": "f9f674f8-f9c0-409f-9ffc-bedc720e85c8",
   "metadata": {},
   "outputs": [],
   "source": [
    "#27 Sort the elements of a tuple"
   ]
  },
  {
   "cell_type": "code",
   "execution_count": null,
   "id": "5fa5a6b1-0c5f-4f1e-a044-3dd5c5d52625",
   "metadata": {},
   "outputs": [],
   "source": [
    "t=(23,3,456,7,87,89,8)\n",
    "u=sorted(t)\n",
    "print(u)"
   ]
  },
  {
   "cell_type": "code",
   "execution_count": null,
   "id": "11e0818d-85ef-406c-986c-34fbe2428895",
   "metadata": {},
   "outputs": [],
   "source": [
    "#28 Convert a tuple of integers to a tuple of strings"
   ]
  },
  {
   "cell_type": "code",
   "execution_count": null,
   "id": "da345b2e-6623-4257-b883-b1de1615cec4",
   "metadata": {},
   "outputs": [],
   "source": [
    "t=(23,3,456,7,87,89,8)\n",
    "u=tuple((str(i) for i in t))\n",
    "print(u)"
   ]
  },
  {
   "cell_type": "code",
   "execution_count": null,
   "id": "2abd2585-abab-4c46-8cf0-19e17f6d3022",
   "metadata": {},
   "outputs": [],
   "source": [
    "#29 Convert a tuple of strings to a tuple of integers"
   ]
  },
  {
   "cell_type": "code",
   "execution_count": null,
   "id": "62925d8d-e9b8-48a8-bcc7-9d7176a3a787",
   "metadata": {},
   "outputs": [],
   "source": [
    "t=('23', '3', '456', '7', '87', '89', '8')\n",
    "u=tuple((int(i) for i in t))\n",
    "print(u)"
   ]
  },
  {
   "cell_type": "code",
   "execution_count": null,
   "id": "4da2098c-86ed-4529-995d-c0f42ed8da83",
   "metadata": {},
   "outputs": [],
   "source": [
    "#30 Merge two tuples"
   ]
  },
  {
   "cell_type": "code",
   "execution_count": null,
   "id": "00d4794e-7f09-4d96-aed6-ace6000cc105",
   "metadata": {},
   "outputs": [],
   "source": [
    "t=(1, 2, 3, 4, 5)\n",
    "u=(6,7,8,9,10)\n",
    "x=t+u\n",
    "print(x)"
   ]
  },
  {
   "cell_type": "code",
   "execution_count": null,
   "id": "e96da538-d4a3-47b9-bc3f-40d710f30cf8",
   "metadata": {},
   "outputs": [],
   "source": [
    "#31 Flatten a nested tuple"
   ]
  },
  {
   "cell_type": "code",
   "execution_count": null,
   "id": "5a87e75b-7330-4cad-9641-ea54638277da",
   "metadata": {},
   "outputs": [],
   "source": [
    "nt=((1, 2), (3, 4), (5, 6))\n",
    "ft=tuple(i for x in nt for i in x)\n",
    "print(ft)"
   ]
  },
  {
   "cell_type": "code",
   "execution_count": null,
   "id": "07be238c-901e-4cda-9419-185adf20fef2",
   "metadata": {},
   "outputs": [],
   "source": [
    "#32 Create a tuple of the first 5 prime numbers"
   ]
  },
  {
   "cell_type": "code",
   "execution_count": null,
   "id": "a612e753-8f50-4e8d-b02f-060561a8b6f0",
   "metadata": {},
   "outputs": [],
   "source": [
    "t=(2,3,5,7,11)\n",
    "print(t)"
   ]
  },
  {
   "cell_type": "code",
   "execution_count": null,
   "id": "b531f5b9-2ded-4013-8264-b2a475e1e84f",
   "metadata": {},
   "outputs": [],
   "source": [
    "#33 Check if a tuple is a palindrome"
   ]
  },
  {
   "cell_type": "code",
   "execution_count": null,
   "id": "912be20a-d367-477a-8414-e6ca6893a5a8",
   "metadata": {},
   "outputs": [],
   "source": [
    "t=(1,3,1)\n",
    "x=t==t[::-1]\n",
    "print(x)"
   ]
  },
  {
   "cell_type": "code",
   "execution_count": null,
   "id": "c8e39c14-317a-449b-be1e-b1b838edbb71",
   "metadata": {},
   "outputs": [],
   "source": [
    "#34 Create a tuple of squares of numbers from 1 to 5"
   ]
  },
  {
   "cell_type": "code",
   "execution_count": null,
   "id": "8962a083-848e-4680-9734-e6bb433dc7e3",
   "metadata": {},
   "outputs": [],
   "source": [
    "t=tuple(i*i for i in range(1,6))\n",
    "print(t)"
   ]
  },
  {
   "cell_type": "code",
   "execution_count": null,
   "id": "e6898043-de10-447d-9d44-238b1619822e",
   "metadata": {},
   "outputs": [],
   "source": [
    "#35 Filter out all even numbers from a tuple"
   ]
  },
  {
   "cell_type": "code",
   "execution_count": null,
   "id": "e82946e5-2938-497c-86f2-b33090541e2d",
   "metadata": {},
   "outputs": [],
   "source": [
    "t=(1, 2, 3, 4, 5, 6, 7, 8, 9, 10, 11, 12, 13, 14, 15, 16, 17, 18, 19, 20)\n",
    "t=tuple(i for i in t if i%2==0)\n",
    "print(t)"
   ]
  },
  {
   "cell_type": "code",
   "execution_count": null,
   "id": "00ad2ec1-e20c-4970-b1ed-a94304834852",
   "metadata": {},
   "outputs": [],
   "source": [
    "#36 Multiply all elements in a tuple by 2"
   ]
  },
  {
   "cell_type": "code",
   "execution_count": null,
   "id": "07badcb1-2c22-449b-ba08-d16e830bbcc5",
   "metadata": {},
   "outputs": [],
   "source": [
    "t=(2,3,5,7,11)\n",
    "t=tuple(i*2 for i in t)\n",
    "print(t)"
   ]
  },
  {
   "cell_type": "code",
   "execution_count": null,
   "id": "6ccdc533-8521-49c3-b7e4-3b3c88a2d8bb",
   "metadata": {},
   "outputs": [],
   "source": [
    "#37 Create a tuple of random numbers"
   ]
  },
  {
   "cell_type": "code",
   "execution_count": null,
   "id": "f86f2cd1-2eca-4a88-982e-d23169ef156f",
   "metadata": {},
   "outputs": [],
   "source": [
    "import random\n",
    "t= tuple(random.randint(1, 100) for i in range(5))\n",
    "print(t)"
   ]
  },
  {
   "cell_type": "code",
   "execution_count": null,
   "id": "e3febc38-23ea-4025-b52d-66b949a2ab37",
   "metadata": {},
   "outputs": [],
   "source": [
    "#38 Check if a tuple is sorted"
   ]
  },
  {
   "cell_type": "code",
   "execution_count": null,
   "id": "81b8231c-10cb-4f84-8b3a-2944470c9413",
   "metadata": {},
   "outputs": [],
   "source": [
    "t=(2,3,5,7,11)\n",
    "x=tuple(sorted(t))\n",
    "y=x==t\n",
    "print(y)"
   ]
  },
  {
   "cell_type": "code",
   "execution_count": null,
   "id": "fcdc8544-4480-41fb-8f24-b9d71a6fb722",
   "metadata": {},
   "outputs": [],
   "source": [
    "#39 Rotate a tuple to the left by `n` positions"
   ]
  },
  {
   "cell_type": "code",
   "execution_count": null,
   "id": "501d7c21-3992-47da-b6f8-9bc05ef47af0",
   "metadata": {},
   "outputs": [],
   "source": [
    "my_tuple = (1, 2, 3, 4, 5)\n",
    "n = 2\n",
    "rotated_tuple = my_tuple[n:] + my_tuple[:n]\n",
    "print(f\"Tuple rotated to the left by {n} positions:\", rotated_tuple)"
   ]
  },
  {
   "cell_type": "code",
   "execution_count": null,
   "id": "15c9aa40-0f1f-4321-beb5-8a0245448051",
   "metadata": {},
   "outputs": [],
   "source": [
    "#40 Rotate a tuple to the right by `n` positions"
   ]
  },
  {
   "cell_type": "code",
   "execution_count": null,
   "id": "24cd0da6-292b-411a-bdda-3a8e24dd36b5",
   "metadata": {},
   "outputs": [],
   "source": [
    "my_tuple = (1, 2, 3, 4, 5)\n",
    "n = 2\n",
    "rotated_tuple = my_tuple[-n:] + my_tuple[:-n]\n",
    "print(f\"Tuple rotated to the right by {n} positions:\", rotated_tuple)"
   ]
  },
  {
   "cell_type": "code",
   "execution_count": null,
   "id": "f5d15419-c2a5-45e8-8d24-334dba6f24f1",
   "metadata": {},
   "outputs": [],
   "source": [
    "#41 Create a tuple of the first 5 Fibonacci numbers"
   ]
  },
  {
   "cell_type": "code",
   "execution_count": null,
   "id": "58bd659c-7625-461e-97d0-ee8cae8b07da",
   "metadata": {},
   "outputs": [],
   "source": [
    "fib=(0,1,1,2,3)\n",
    "print(fib)"
   ]
  },
  {
   "cell_type": "code",
   "execution_count": null,
   "id": "31b78aaa-9378-47be-8660-54e8cca092b7",
   "metadata": {},
   "outputs": [],
   "source": [
    "#42 Create a tuple from user input"
   ]
  },
  {
   "cell_type": "code",
   "execution_count": null,
   "id": "f60288bc-a464-457c-a4f1-ffb6f3f539ce",
   "metadata": {},
   "outputs": [],
   "source": [
    "i=input(\"Enter elements separated by space: \")\n",
    "print(tuple(i.split()))"
   ]
  },
  {
   "cell_type": "code",
   "execution_count": null,
   "id": "d097b64f-5c42-427f-a20a-6ef0b094626f",
   "metadata": {},
   "outputs": [],
   "source": [
    "#43 Swap two elements in a tuple"
   ]
  },
  {
   "cell_type": "code",
   "execution_count": null,
   "id": "c2fd3227-0823-44d0-a428-c4a6726131f7",
   "metadata": {},
   "outputs": [],
   "source": [
    "t=(1, 2, 3, 4, 5)\n",
    "l=list(t)\n",
    "l[1],l[3]=l[3],l[1]\n",
    "t=tuple(l)\n",
    "print(t)"
   ]
  },
  {
   "cell_type": "code",
   "execution_count": null,
   "id": "e7fbaa6d-75ec-441d-b0f0-6dd00b001cf5",
   "metadata": {},
   "outputs": [],
   "source": [
    "#44 Reverse the elements of a tuple"
   ]
  },
  {
   "cell_type": "code",
   "execution_count": null,
   "id": "b3300bc9-86ee-41a8-bef9-4ba2ae5cd968",
   "metadata": {},
   "outputs": [],
   "source": [
    "t=(1, 2, 3, 4, 5)\n",
    "print(t[::-1])"
   ]
  },
  {
   "cell_type": "code",
   "execution_count": null,
   "id": "d16b832b-7b52-40e6-8cef-1bbd95ba171e",
   "metadata": {},
   "outputs": [],
   "source": [
    "#45 Create a tuple of the first `n` powers of 2"
   ]
  },
  {
   "cell_type": "code",
   "execution_count": null,
   "id": "3c47fa8f-2225-4667-86c9-db11cccf1e27",
   "metadata": {},
   "outputs": [],
   "source": [
    "n=11\n",
    "t=tuple(i*i for i in range(1,n))\n",
    "print(t)"
   ]
  },
  {
   "cell_type": "code",
   "execution_count": null,
   "id": "7f7bab02-46c8-493f-8fee-b2df30e4d594",
   "metadata": {},
   "outputs": [],
   "source": [
    "#46 Find the longest string in a tuple of strings"
   ]
  },
  {
   "cell_type": "code",
   "execution_count": null,
   "id": "7ce1b366-4cf7-4325-9727-5f01b59477d0",
   "metadata": {},
   "outputs": [],
   "source": [
    "t=('the', 'galaxy', 'of', 'the', 'universe')\n",
    "p=t[0]\n",
    "for i in t:\n",
    "    if len(i)>len(p):\n",
    "        p=i\n",
    "print(p)"
   ]
  },
  {
   "cell_type": "code",
   "execution_count": null,
   "id": "31dc17e7-0552-4701-979c-e5f2427e82d1",
   "metadata": {},
   "outputs": [],
   "source": [
    "#47 Find the shortest string in a tuple of strings"
   ]
  },
  {
   "cell_type": "code",
   "execution_count": null,
   "id": "6379c4a7-2fb1-41c3-9780-c8e49e816895",
   "metadata": {},
   "outputs": [],
   "source": [
    "t=('the', 'galaxy', 'of', 'the', 'universe')\n",
    "p=t[0]\n",
    "for i in t:\n",
    "    if len(i)<len(p):\n",
    "        p=i\n",
    "print(p)"
   ]
  },
  {
   "cell_type": "code",
   "execution_count": null,
   "id": "8203eb5d-7dc9-4e44-a344-ed16f03f6aca",
   "metadata": {},
   "outputs": [],
   "source": [
    "#48 Create a tuple of the first `n` triangular numbers"
   ]
  },
  {
   "cell_type": "code",
   "execution_count": null,
   "id": "558e46f7-a514-4f39-9181-1352c09b870a",
   "metadata": {},
   "outputs": [],
   "source": [
    "n = 5\n",
    "triangular_numbers = tuple(i * (i + 1) // 2 for i in range(1, n+1))\n",
    "print(f\"Tuple of the first {n} triangular numbers:\", triangular_numbers)"
   ]
  },
  {
   "cell_type": "code",
   "execution_count": null,
   "id": "bc963030-148c-4c36-9fd9-53681010c70b",
   "metadata": {},
   "outputs": [],
   "source": [
    "#49 Check if a tuple contains another tuple as a subsequence"
   ]
  },
  {
   "cell_type": "code",
   "execution_count": null,
   "id": "a408f2e9-abb1-4671-8354-705da10c39af",
   "metadata": {},
   "outputs": [],
   "source": [
    "main_tuple = (1, 2, 3, 4, 5, 6, 7)\n",
    "sub_tuple = (4, 5)\n",
    "is_subsequence = any(sub_tuple == main_tuple[i:i+len(sub_tuple)] for i in range(len(main_tuple) - len(sub_tuple) + 1))\n",
    "print(\"Does the main tuple contain the sub tuple as a subsequence:\", is_subsequence)"
   ]
  },
  {
   "cell_type": "code",
   "execution_count": null,
   "id": "cae2412f-8e84-4476-a627-61aa4b88ef58",
   "metadata": {},
   "outputs": [],
   "source": [
    "#50 Create a tuple of alternating 1s and 0s of length `n`"
   ]
  },
  {
   "cell_type": "code",
   "execution_count": null,
   "id": "65ca3b31-6a41-4ca6-94c2-8c721c34fd99",
   "metadata": {},
   "outputs": [],
   "source": [
    "n=20\n",
    "t=tuple(1 if i%2==0 else 0 for i in range(n))\n",
    "print(t)"
   ]
  },
  {
   "cell_type": "code",
   "execution_count": null,
   "id": "ec7f14d9-4a80-44da-8798-30030ac69568",
   "metadata": {},
   "outputs": [],
   "source": [
    "#SET BASED PRACTICE PROBLEMS"
   ]
  },
  {
   "cell_type": "code",
   "execution_count": null,
   "id": "12110cb1-0910-4761-9212-0f6fd07cc44a",
   "metadata": {},
   "outputs": [],
   "source": [
    "#1 Create a set with integers from 1 to 5"
   ]
  },
  {
   "cell_type": "code",
   "execution_count": null,
   "id": "137a2fed-4edc-46df-a177-4e6ccaeb89ef",
   "metadata": {},
   "outputs": [],
   "source": [
    "s=set(i for i in range(1,6))\n",
    "print(s)"
   ]
  },
  {
   "cell_type": "code",
   "execution_count": null,
   "id": "c0da66b9-c53d-429c-999d-8f5e97ab0e20",
   "metadata": {},
   "outputs": [],
   "source": [
    "#2 Add an element to a set"
   ]
  },
  {
   "cell_type": "code",
   "execution_count": null,
   "id": "74ff86b9-603e-4142-bfa7-e7ef89cd5748",
   "metadata": {},
   "outputs": [],
   "source": [
    "s={1, 2, 3, 4, 5}\n",
    "s.add(6)\n",
    "print(s)"
   ]
  },
  {
   "cell_type": "code",
   "execution_count": null,
   "id": "9962673d-595b-4a00-9159-f9b89705060e",
   "metadata": {},
   "outputs": [],
   "source": [
    "#3 Remove an element from a set"
   ]
  },
  {
   "cell_type": "code",
   "execution_count": null,
   "id": "ecc925f0-536c-4043-83c2-b9d01935446b",
   "metadata": {},
   "outputs": [],
   "source": [
    "s={1, 2, 3, 4, 5}\n",
    "s.remove(3)\n",
    "print(s)"
   ]
  },
  {
   "cell_type": "code",
   "execution_count": null,
   "id": "688fd6e2-a44e-408e-8cbd-078233c2ef6c",
   "metadata": {},
   "outputs": [],
   "source": [
    "#4 Check if an element exists in a set"
   ]
  },
  {
   "cell_type": "code",
   "execution_count": null,
   "id": "7adb95b6-4335-46a9-a6fc-e65496c3bc42",
   "metadata": {},
   "outputs": [],
   "source": [
    "s={1, 2, 3, 4, 5}\n",
    "t=4 in s\n",
    "print(t)"
   ]
  },
  {
   "cell_type": "code",
   "execution_count": null,
   "id": "239faaf1-b80c-489b-ad6d-eb028a3f5582",
   "metadata": {},
   "outputs": [],
   "source": [
    "#5 Find the length of a set without using the `len()` function"
   ]
  },
  {
   "cell_type": "code",
   "execution_count": null,
   "id": "fe2053e2-b8ac-4e59-ad65-d2a091ebfb98",
   "metadata": {},
   "outputs": [],
   "source": [
    "s={1, 2, 3, 4, 5}\n",
    "len=0\n",
    "for i in s:\n",
    "    len+=1\n",
    "print(len)"
   ]
  },
  {
   "cell_type": "code",
   "execution_count": null,
   "id": "2ec53c17-7f4c-4e64-9904-3369fee7f90a",
   "metadata": {},
   "outputs": [],
   "source": [
    "#6 Clear all elements from a set"
   ]
  },
  {
   "cell_type": "code",
   "execution_count": null,
   "id": "7551279c-cf36-4ca9-a317-7de4688f33c8",
   "metadata": {},
   "outputs": [],
   "source": [
    "s={1, 2, 3, 4, 5}\n",
    "s.clear()\n",
    "print(s)"
   ]
  },
  {
   "cell_type": "code",
   "execution_count": null,
   "id": "e3e8d468-da05-4d58-afab-29b98d0a1044",
   "metadata": {},
   "outputs": [],
   "source": [
    "#7 Create a set of even numbers from 1 to 10"
   ]
  },
  {
   "cell_type": "code",
   "execution_count": null,
   "id": "ec8373da-d670-475c-a0b3-888a1bfe94e8",
   "metadata": {},
   "outputs": [],
   "source": [
    "s=set(i for i in range(1,11) if i%2==0)\n",
    "print(s)"
   ]
  },
  {
   "cell_type": "code",
   "execution_count": null,
   "id": "67eae757-e5ed-47f9-9674-d4fcb09b30ad",
   "metadata": {},
   "outputs": [],
   "source": [
    "#8 Create a set of odd numbers from 1 to 10"
   ]
  },
  {
   "cell_type": "code",
   "execution_count": null,
   "id": "b5f73e4a-0cd9-4507-b76f-efd52768956d",
   "metadata": {},
   "outputs": [],
   "source": [
    "s=set(i for i in range(1,11) if i%2!=0)\n",
    "print(s)"
   ]
  },
  {
   "cell_type": "code",
   "execution_count": null,
   "id": "31881583-a02d-4bf3-9b2f-1bedf7ffc597",
   "metadata": {},
   "outputs": [],
   "source": [
    "#9 Find the union of two sets"
   ]
  },
  {
   "cell_type": "code",
   "execution_count": null,
   "id": "10bbd9e1-34b8-4d19-a267-a5477b037aaf",
   "metadata": {},
   "outputs": [],
   "source": [
    "s1= {1, 2, 3, 4, 5,6}\n",
    "s2= {6, 7, 8}\n",
    "s=s1.union(s2)\n",
    "print(s)"
   ]
  },
  {
   "cell_type": "code",
   "execution_count": null,
   "id": "9047b084-4753-4b6d-920f-4b0477cb7217",
   "metadata": {},
   "outputs": [],
   "source": [
    "#10 Find the intersection of two sets"
   ]
  },
  {
   "cell_type": "code",
   "execution_count": null,
   "id": "762799a2-0e7f-43cd-8dab-59eec96c0a34",
   "metadata": {},
   "outputs": [],
   "source": [
    "s1= {1, 2, 3, 4, 5,6}\n",
    "s2= {6, 7, 8}\n",
    "s=s1.intersection(s2)\n",
    "print(s)"
   ]
  },
  {
   "cell_type": "code",
   "execution_count": null,
   "id": "c8bdab09-8a58-4423-80ca-ac4d41108e7b",
   "metadata": {},
   "outputs": [],
   "source": [
    "#11 Find the difference between two sets"
   ]
  },
  {
   "cell_type": "code",
   "execution_count": null,
   "id": "aa8b2090-944b-4c8a-a623-6cc8c291e281",
   "metadata": {},
   "outputs": [],
   "source": [
    "s1= {1, 2, 3, 4, 5,6}\n",
    "s2= {6, 7, 8}\n",
    "s=s1.difference(s2)\n",
    "print(s)"
   ]
  },
  {
   "cell_type": "code",
   "execution_count": null,
   "id": "d313f33f-68fd-43b3-ac68-54c9c3eb5dff",
   "metadata": {},
   "outputs": [],
   "source": [
    "#12 Check if a set is a subset of another set"
   ]
  },
  {
   "cell_type": "code",
   "execution_count": null,
   "id": "f7956958-0c2c-4f26-8306-8316d1654780",
   "metadata": {},
   "outputs": [],
   "source": [
    "s1= {1, 2, 3, 4, 5,6}\n",
    "s2= {6, 7, 8}\n",
    "s=s1.issubset(s2)\n",
    "print(s)"
   ]
  },
  {
   "cell_type": "code",
   "execution_count": null,
   "id": "d4e07743-c8a0-4d46-8b28-de0afb64154e",
   "metadata": {},
   "outputs": [],
   "source": [
    "#13 Check if a set is a superset of another set"
   ]
  },
  {
   "cell_type": "code",
   "execution_count": null,
   "id": "cc4bc683-32c4-42a1-baa8-04cd802f6036",
   "metadata": {},
   "outputs": [],
   "source": [
    "s1= {1, 2, 3, 4, 5,6}\n",
    "s2= {6, 7, 8}\n",
    "s=s1.issuperset(s2)\n",
    "print(s)"
   ]
  },
  {
   "cell_type": "code",
   "execution_count": null,
   "id": "a00818d5-cb93-4440-a2b5-41ff7d2450ad",
   "metadata": {},
   "outputs": [],
   "source": [
    "#14 Create a set from a list"
   ]
  },
  {
   "cell_type": "code",
   "execution_count": null,
   "id": "0039b472-67b3-4049-8d90-e1a1c082f35a",
   "metadata": {},
   "outputs": [],
   "source": [
    "l=[1, 2, 3, 4, 5]\n",
    "print(set(l))"
   ]
  },
  {
   "cell_type": "code",
   "execution_count": null,
   "id": "bfee46d1-d2c5-42cb-806a-6535dcd80615",
   "metadata": {},
   "outputs": [],
   "source": [
    "#15 Convert a set to a list"
   ]
  },
  {
   "cell_type": "code",
   "execution_count": null,
   "id": "bf3560d6-cf3c-4e5e-a403-80093518ea42",
   "metadata": {},
   "outputs": [],
   "source": [
    "s={1, 2, 3, 4, 5}\n",
    "print(list(s))"
   ]
  },
  {
   "cell_type": "code",
   "execution_count": null,
   "id": "e036ac4f-e7c7-4535-8e77-6b05464fd958",
   "metadata": {},
   "outputs": [],
   "source": [
    "#16 Remove a random element from a set "
   ]
  },
  {
   "cell_type": "code",
   "execution_count": null,
   "id": "cd18903d-45a5-46ff-acfd-1abc52822847",
   "metadata": {},
   "outputs": [],
   "source": [
    "s={1, 2, 3, 4, 5}\n",
    "s.pop()\n",
    "print(s)"
   ]
  },
  {
   "cell_type": "code",
   "execution_count": null,
   "id": "97d9af00-4527-4c9b-8f9a-94dbedce6e59",
   "metadata": {},
   "outputs": [],
   "source": [
    "#17 Pop an element from a set"
   ]
  },
  {
   "cell_type": "code",
   "execution_count": null,
   "id": "27adc32e-060f-43ee-af72-3224cc1deb19",
   "metadata": {},
   "outputs": [],
   "source": [
    "s={1, 2, 3, 4, 5}\n",
    "s.pop()\n",
    "print(s)"
   ]
  },
  {
   "cell_type": "code",
   "execution_count": null,
   "id": "a1afb4a1-f8a7-4d22-a13c-443c1f722fa6",
   "metadata": {},
   "outputs": [],
   "source": [
    "#18 Check if two sets have no elements in common"
   ]
  },
  {
   "cell_type": "code",
   "execution_count": null,
   "id": "994c9e1c-3b9f-425f-a037-50dfa6766143",
   "metadata": {},
   "outputs": [],
   "source": [
    "s1= {1, 2, 3, 4, 5}\n",
    "s2= {6, 7, 8}\n",
    "s=s1.isdisjoint(s2)\n",
    "print(s)"
   ]
  },
  {
   "cell_type": "code",
   "execution_count": null,
   "id": "d3300e08-eb4c-4a9b-b334-4209954a38f9",
   "metadata": {},
   "outputs": [],
   "source": [
    "#19 Find the symmetric difference between two sets"
   ]
  },
  {
   "cell_type": "code",
   "execution_count": null,
   "id": "9ab6bb69-74e2-421e-95e6-7fb55b0d4596",
   "metadata": {},
   "outputs": [],
   "source": [
    "s1= {1, 2, 3, 4, 5}\n",
    "s2= {6, 7, 8}\n",
    "s=s1.symmetric_difference(s2)\n",
    "print(s)"
   ]
  },
  {
   "cell_type": "code",
   "execution_count": null,
   "id": "3fa4ba37-c057-48fd-b025-c41fd736673e",
   "metadata": {},
   "outputs": [],
   "source": [
    "#20 Update a set with elements from another set"
   ]
  },
  {
   "cell_type": "code",
   "execution_count": null,
   "id": "8954ca60-0e65-4ed2-8f84-6e46b58888fa",
   "metadata": {},
   "outputs": [],
   "source": [
    "s1= {1, 2, 3, 4, 5}\n",
    "s2= {6, 7, 8}\n",
    "s=s1.update(s2)\n",
    "print(s1)"
   ]
  },
  {
   "cell_type": "code",
   "execution_count": null,
   "id": "ae913de3-3e18-450c-8bcf-2c00a7b41bb2",
   "metadata": {},
   "outputs": [],
   "source": [
    "#21 Create a set of the first 5 prime numbers"
   ]
  },
  {
   "cell_type": "code",
   "execution_count": null,
   "id": "4ca6bd9a-023e-4e9c-bd30-3be0ef54c848",
   "metadata": {},
   "outputs": [],
   "source": [
    "s={2, 3, 5, 7, 11}\n",
    "print(s)"
   ]
  },
  {
   "cell_type": "code",
   "execution_count": null,
   "id": "4df9159e-d706-4ee5-8ece-262daa92ddf2",
   "metadata": {},
   "outputs": [],
   "source": [
    "#22 Check if two sets are identical"
   ]
  },
  {
   "cell_type": "code",
   "execution_count": null,
   "id": "f22a2901-5cd2-443d-9d30-c2d822d6a1a3",
   "metadata": {},
   "outputs": [],
   "source": [
    "s1= {1, 2, 3, 4, 5}\n",
    "s2= {6, 7, 8}\n",
    "s=s1==s2\n",
    "print(s)"
   ]
  },
  {
   "cell_type": "code",
   "execution_count": null,
   "id": "f43f3da1-3049-400c-a40e-fe90b0654c83",
   "metadata": {},
   "outputs": [],
   "source": [
    "#23 Create a frozen set"
   ]
  },
  {
   "cell_type": "code",
   "execution_count": null,
   "id": "bf201066-c9d9-446e-9073-442fa90496d9",
   "metadata": {},
   "outputs": [],
   "source": [
    "s1= {1, 2, 3, 4, 5}\n",
    "s=frozenset(s1)\n",
    "print(s)"
   ]
  },
  {
   "cell_type": "code",
   "execution_count": null,
   "id": "1685c707-ba0f-48ed-995c-107d130edb42",
   "metadata": {},
   "outputs": [],
   "source": [
    "#24 Check if a set is disjoint with another set."
   ]
  },
  {
   "cell_type": "code",
   "execution_count": null,
   "id": "42320067-ca54-48ec-91f1-908494721342",
   "metadata": {},
   "outputs": [],
   "source": [
    "s1= {1, 2, 3, 4, 5}\n",
    "s2= {6, 7, 8}\n",
    "s=s1.isdisjoint(s2)\n",
    "print(s)"
   ]
  },
  {
   "cell_type": "code",
   "execution_count": null,
   "id": "4f0bbec6-0d9c-4610-b92f-a4021cca9bb1",
   "metadata": {},
   "outputs": [],
   "source": [
    "#25 Create a set of squares of numbers from 1 to 5"
   ]
  },
  {
   "cell_type": "code",
   "execution_count": null,
   "id": "cf0bf74c-8aa6-4ee5-9e8d-78576e6f51f3",
   "metadata": {},
   "outputs": [],
   "source": [
    "s=set(i*i for i in range(1,6))\n",
    "print(s)"
   ]
  },
  {
   "cell_type": "code",
   "execution_count": null,
   "id": "8c0675d9-7ab3-4f38-9031-625c85f3c704",
   "metadata": {},
   "outputs": [],
   "source": [
    "#26 Filter out all even numbers from a set"
   ]
  },
  {
   "cell_type": "code",
   "execution_count": null,
   "id": "2b9850a1-57c5-413d-92fb-03c1c73a44c6",
   "metadata": {},
   "outputs": [],
   "source": [
    "s1={1, 2, 3, 4, 5, 6, 7, 8}\n",
    "s=set(i for i in s1 if i%2==0)\n",
    "print(s)"
   ]
  },
  {
   "cell_type": "code",
   "execution_count": null,
   "id": "2ab4fefe-f007-42ea-8496-937b537465c4",
   "metadata": {},
   "outputs": [],
   "source": [
    "#27 Multiply all elements in a set by 2"
   ]
  },
  {
   "cell_type": "code",
   "execution_count": null,
   "id": "cfca1820-9f90-4dd1-8a15-b7c49b096381",
   "metadata": {},
   "outputs": [],
   "source": [
    "s1={1, 2, 3, 4, 5, 6, 7, 8}\n",
    "s=set(i*2 for i in s1)\n",
    "print(s)"
   ]
  },
  {
   "cell_type": "code",
   "execution_count": null,
   "id": "29e69721-c8c0-49d5-b0a4-960adb651ba1",
   "metadata": {},
   "outputs": [],
   "source": [
    "#28 Create a set of random numbers"
   ]
  },
  {
   "cell_type": "code",
   "execution_count": null,
   "id": "dbc440d5-3ee5-4ec4-9a73-662521e14199",
   "metadata": {},
   "outputs": [],
   "source": [
    "import random\n",
    "s=set(random.randint(1,100) for i in range(5))\n",
    "print(s)"
   ]
  },
  {
   "cell_type": "code",
   "execution_count": null,
   "id": "c567835f-9c04-4be2-9782-d8d15ec9fa37",
   "metadata": {},
   "outputs": [],
   "source": [
    "#29 Check if a set is empty"
   ]
  },
  {
   "cell_type": "code",
   "execution_count": null,
   "id": "3fdc3d4d-959e-42fe-b5ce-6ce2c396d120",
   "metadata": {},
   "outputs": [],
   "source": [
    "s = {}\n",
    "e = not bool(s)\n",
    "print(\"Is the set empty?\", e)"
   ]
  },
  {
   "cell_type": "code",
   "execution_count": null,
   "id": "f1cf21d8-78c4-40b6-8e40-91764a44299c",
   "metadata": {},
   "outputs": [],
   "source": [
    "#30 Create a nested set"
   ]
  },
  {
   "cell_type": "code",
   "execution_count": null,
   "id": "b7fb5a85-58ad-43dc-94f3-606db12f805a",
   "metadata": {},
   "outputs": [],
   "source": [
    "s1= {1, 2, 3, 4, 5}\n",
    "s2= {6, 7, 8}\n",
    "ns= {frozenset(s1), frozenset(s2)}\n",
    "print(ns)"
   ]
  },
  {
   "cell_type": "code",
   "execution_count": null,
   "id": "a8b5d3aa-1154-4a60-a420-8232758e8880",
   "metadata": {},
   "outputs": [],
   "source": [
    "#31 Remove an element from a set using the discard method"
   ]
  },
  {
   "cell_type": "code",
   "execution_count": null,
   "id": "4da90c0c-9cca-46b1-af7b-31789c85fdcc",
   "metadata": {},
   "outputs": [],
   "source": [
    "s={1, 2, 3, 4, 5}\n",
    "s.discard(5)\n",
    "print(s)"
   ]
  },
  {
   "cell_type": "code",
   "execution_count": null,
   "id": "7ef07719-8ec0-4050-9caf-fe2091e62c63",
   "metadata": {},
   "outputs": [],
   "source": [
    "#32 Compare two sets"
   ]
  },
  {
   "cell_type": "code",
   "execution_count": null,
   "id": "414ee6e6-dfb1-409b-98dd-0c5e26f590d8",
   "metadata": {},
   "outputs": [],
   "source": [
    "s1= {1, 2, 3, 4, 5}\n",
    "s2= {6, 7, 8}\n",
    "s=s1==s2\n",
    "print(s)"
   ]
  },
  {
   "cell_type": "code",
   "execution_count": null,
   "id": "52c6ce9e-dffd-4b0f-8206-31c35b21a957",
   "metadata": {},
   "outputs": [],
   "source": [
    "#33 Create a set from a string"
   ]
  },
  {
   "cell_type": "code",
   "execution_count": null,
   "id": "361c9e92-0fb3-49eb-9ca8-762ee1a51c4e",
   "metadata": {},
   "outputs": [],
   "source": [
    "s=\"The stars in the sky\"\n",
    "l=s.split()\n",
    "print(set(l))"
   ]
  },
  {
   "cell_type": "code",
   "execution_count": null,
   "id": "2292f5f6-0605-45cc-88ab-c213c608bde7",
   "metadata": {},
   "outputs": [],
   "source": [
    "#34 Convert a set of strings to a set of integers"
   ]
  },
  {
   "cell_type": "code",
   "execution_count": null,
   "id": "bfaa1a97-c234-4621-b7cf-6dbec05dd214",
   "metadata": {},
   "outputs": [],
   "source": [
    "st={\"1\", \"2\", \"3\", \"4\", \"5\"}\n",
    "s=set(int(x) for x in st)\n",
    "print(s)"
   ]
  },
  {
   "cell_type": "code",
   "execution_count": null,
   "id": "3b90f0fc-e662-45f7-a73a-73bc1fc5ecd5",
   "metadata": {},
   "outputs": [],
   "source": [
    "#35 Convert a set of integers to a set of strings"
   ]
  },
  {
   "cell_type": "code",
   "execution_count": null,
   "id": "ca9c07e7-d080-4a98-abde-37c55e875724",
   "metadata": {},
   "outputs": [],
   "source": [
    "s1={1, 2, 3, 4, 5}\n",
    "s=set(str(x) for x in st)\n",
    "print(s)"
   ]
  },
  {
   "cell_type": "code",
   "execution_count": null,
   "id": "11a2319b-e670-44dc-aab8-c5b27ee634a0",
   "metadata": {},
   "outputs": [],
   "source": [
    "#36 Create a set from a tuple"
   ]
  },
  {
   "cell_type": "code",
   "execution_count": null,
   "id": "f9ca3d7f-6d4f-4df8-af68-753cb98f96a9",
   "metadata": {},
   "outputs": [],
   "source": [
    "t=(1, 2, 3, 4, 5)\n",
    "print(set(t))"
   ]
  },
  {
   "cell_type": "code",
   "execution_count": null,
   "id": "8ec10a55-eb9f-4e26-807e-95abf738d337",
   "metadata": {},
   "outputs": [],
   "source": [
    "#37 Convert a set to a tuple"
   ]
  },
  {
   "cell_type": "code",
   "execution_count": null,
   "id": "de102395-147a-4a64-a755-b467816da1af",
   "metadata": {},
   "outputs": [],
   "source": [
    "s={1, 2, 3, 4, 5}\n",
    "print(tuple(s))"
   ]
  },
  {
   "cell_type": "code",
   "execution_count": null,
   "id": "8bd240ce-c4aa-4629-8c56-0c186e200c2c",
   "metadata": {},
   "outputs": [],
   "source": [
    "#38 Find the maximum value in a set"
   ]
  },
  {
   "cell_type": "code",
   "execution_count": null,
   "id": "67b40a33-d1ba-4e28-91cd-6761c86523c0",
   "metadata": {},
   "outputs": [],
   "source": [
    "s={1, 2, 3, 4, 5}\n",
    "m=max(s)\n",
    "print(m)"
   ]
  },
  {
   "cell_type": "code",
   "execution_count": null,
   "id": "68f68abc-dc25-44c6-bb31-5eccdbd73f32",
   "metadata": {},
   "outputs": [],
   "source": [
    "#39 Find the minimum value in a set"
   ]
  },
  {
   "cell_type": "code",
   "execution_count": null,
   "id": "bf73b0e7-a75d-493f-84d0-38160af22b43",
   "metadata": {},
   "outputs": [],
   "source": [
    "s={1, 2, 3, 4, 5}\n",
    "m=min(s)\n",
    "print(m)"
   ]
  },
  {
   "cell_type": "code",
   "execution_count": null,
   "id": "57f9a404-05df-49a5-a152-d112c1166e99",
   "metadata": {},
   "outputs": [],
   "source": [
    "#40 Create a set from user input"
   ]
  },
  {
   "cell_type": "code",
   "execution_count": null,
   "id": "3a5fc34e-53f3-4f13-81ad-409a087e47de",
   "metadata": {},
   "outputs": [],
   "source": [
    "i=input(\"Enter elements separated by space: \")\n",
    "print(set(i.split()))"
   ]
  },
  {
   "cell_type": "code",
   "execution_count": null,
   "id": "bebe11ff-40dc-4f19-8b40-de2477ecca85",
   "metadata": {},
   "outputs": [],
   "source": [
    "#41 Check if the intersection of two sets is empty"
   ]
  },
  {
   "cell_type": "code",
   "execution_count": null,
   "id": "2a98f066-3a9d-4031-8c1e-70c24cd007f5",
   "metadata": {},
   "outputs": [],
   "source": [
    "s1={1, 2, 3, 4, 5}\n",
    "s2={6, 7, 8}\n",
    "s=len(s1.intersection(s2))==0\n",
    "print(s)"
   ]
  },
  {
   "cell_type": "code",
   "execution_count": null,
   "id": "457c8373-845d-4c88-b559-6b0e9f21e72f",
   "metadata": {},
   "outputs": [],
   "source": [
    "#42 Create a set of the first 5 Fibonacci numbers"
   ]
  },
  {
   "cell_type": "code",
   "execution_count": null,
   "id": "f3bb2785-2fc0-4d6c-885f-4a31f83f6958",
   "metadata": {},
   "outputs": [],
   "source": [
    "fib={0, 1, 1, 2, 3}\n",
    "print(fib)"
   ]
  },
  {
   "cell_type": "code",
   "execution_count": null,
   "id": "e20a8019-a6ab-4e80-bcfd-59f12c05a1f2",
   "metadata": {},
   "outputs": [],
   "source": [
    "#43 Remove duplicates from a list using sets"
   ]
  },
  {
   "cell_type": "code",
   "execution_count": null,
   "id": "b0f107e7-5339-4761-ab11-73f24dcce391",
   "metadata": {},
   "outputs": [],
   "source": [
    "l=[1, 2, 2, 3, 4, 4, 5]\n",
    "lf=list(set(l))\n",
    "print(lf)"
   ]
  },
  {
   "cell_type": "code",
   "execution_count": null,
   "id": "6a5c7e92-1186-4216-a8d6-2ce270b5596b",
   "metadata": {},
   "outputs": [],
   "source": [
    "#44 Check if two sets have the same elements, regardless of their count"
   ]
  },
  {
   "cell_type": "code",
   "execution_count": null,
   "id": "8ed9931e-50d8-40d0-bdb0-507e21b2771d",
   "metadata": {},
   "outputs": [],
   "source": [
    "s1={1, 2, 3, 4, 5,6}\n",
    "s2={6, 7, 8}\n",
    "s=s1.isdisjoint(s2)\n",
    "if s==True:\n",
    "    print(\"no same elements\")\n",
    "else:\n",
    "    print(\"same elements are there\")"
   ]
  },
  {
   "cell_type": "code",
   "execution_count": null,
   "id": "1c90cd76-6918-4ca9-a40c-fd2da51abab2",
   "metadata": {},
   "outputs": [],
   "source": [
    "#45 Create a set of the first `n` powers of 2"
   ]
  },
  {
   "cell_type": "code",
   "execution_count": null,
   "id": "37afcee8-425a-4806-8e81-af807e552493",
   "metadata": {},
   "outputs": [],
   "source": [
    "n=11\n",
    "s=set(i*i for i in range(1,11))\n",
    "print(sorted(s))"
   ]
  },
  {
   "cell_type": "code",
   "execution_count": null,
   "id": "f6c9b70f-0692-46b5-9798-ac5efe90936e",
   "metadata": {},
   "outputs": [],
   "source": [
    "#46 Find the common elements between a set and a list"
   ]
  },
  {
   "cell_type": "code",
   "execution_count": null,
   "id": "101c0759-34a3-4e1e-88f3-302a1fab0da3",
   "metadata": {},
   "outputs": [],
   "source": [
    "s1={1, 2, 3, 4, 5,6}\n",
    "l=[1, 2, 2, 3, 4, 4, 5]\n",
    "s2=set(l)\n",
    "s=set(s1.intersection(s2))\n",
    "print(s)"
   ]
  },
  {
   "cell_type": "code",
   "execution_count": null,
   "id": "cdf0fd1c-2314-4ccc-9d16-fc04f90f0c12",
   "metadata": {},
   "outputs": [],
   "source": [
    "#47 Create a set of the first `n` triangular numbers"
   ]
  },
  {
   "cell_type": "code",
   "execution_count": null,
   "id": "9b664ad4-0b33-4fb8-9239-96b0ff502525",
   "metadata": {},
   "outputs": [],
   "source": [
    "n = 5\n",
    "triangular_numbers_set = {i * (i + 1) // 2 for i in range(1, n+1)}\n",
    "print(f\"Set of the first {n} triangular numbers:\", triangular_numbers_set)"
   ]
  },
  {
   "cell_type": "code",
   "execution_count": null,
   "id": "3076c558-4030-481d-8193-65bc2d4bc9a0",
   "metadata": {},
   "outputs": [],
   "source": [
    "#48 Check if a set contains another set as a subset"
   ]
  },
  {
   "cell_type": "code",
   "execution_count": null,
   "id": "159850d1-cd70-4e5d-8fc8-061092b06d5d",
   "metadata": {},
   "outputs": [],
   "source": [
    "s1={1, 2, 3, 4, 5}\n",
    "s2={6, 7, 8}\n",
    "s=s1.issubset(s2)\n",
    "print(s)"
   ]
  },
  {
   "cell_type": "code",
   "execution_count": null,
   "id": "6cc72e21-ccba-49ea-9b40-7d9291c8983f",
   "metadata": {},
   "outputs": [],
   "source": [
    "#49 Create a set of alternating 1s and 0s of length `n` "
   ]
  },
  {
   "cell_type": "code",
   "execution_count": null,
   "id": "49ce8425-f739-45fc-975d-0124be49126b",
   "metadata": {},
   "outputs": [],
   "source": [
    "n=10\n",
    "s=set(1 if i%2==0 else 0 for i in range(n))\n",
    "print(s)"
   ]
  },
  {
   "cell_type": "code",
   "execution_count": null,
   "id": "26fa4e99-6708-4adc-b84a-3dd721701a5a",
   "metadata": {},
   "outputs": [],
   "source": [
    "#5O Merge multiple sets into one"
   ]
  },
  {
   "cell_type": "code",
   "execution_count": null,
   "id": "fb27ae5c-557b-48bd-bddb-5346f7bd285a",
   "metadata": {},
   "outputs": [],
   "source": [
    "s1={1, 2, 3, 4, 5}\n",
    "s2={6, 7, 8}\n",
    "s3={1, 9, 3}\n",
    "s4={4, 5, 10}\n",
    "s=set(s1.union(s2,s3,s4))\n",
    "print(s)"
   ]
  }
 ],
 "metadata": {
  "kernelspec": {
   "display_name": "Python 3 (ipykernel)",
   "language": "python",
   "name": "python3"
  },
  "language_info": {
   "codemirror_mode": {
    "name": "ipython",
    "version": 3
   },
   "file_extension": ".py",
   "mimetype": "text/x-python",
   "name": "python",
   "nbconvert_exporter": "python",
   "pygments_lexer": "ipython3",
   "version": "3.10.8"
  }
 },
 "nbformat": 4,
 "nbformat_minor": 5
}
